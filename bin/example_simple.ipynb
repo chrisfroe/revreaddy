{
 "metadata": {
  "name": "",
  "signature": "sha256:92becedf4213c10586c90863d01c322409bcbae231a93d22169b19344494a283"
 },
 "nbformat": 3,
 "nbformat_minor": 0,
 "worksheets": [
  {
   "cells": [
    {
     "cell_type": "code",
     "collapsed": false,
     "input": [
      "%matplotlib inline"
     ],
     "language": "python",
     "metadata": {},
     "outputs": [],
     "prompt_number": 1
    },
    {
     "cell_type": "markdown",
     "metadata": {},
     "source": [
      "Import the cython module *sim* that has been compiled before."
     ]
    },
    {
     "cell_type": "code",
     "collapsed": false,
     "input": [
      "#!/bin/python\n",
      "import numpy as np\n",
      "import sim"
     ],
     "language": "python",
     "metadata": {},
     "outputs": [],
     "prompt_number": 2
    },
    {
     "cell_type": "markdown",
     "metadata": {},
     "source": [
      "Create an object of type *pySimulation* which is a wrapper of the C++ class *Simulation*. This class instantiates and holds all other subclasses (e.g. random number generator) needed to perform the simulation."
     ]
    },
    {
     "cell_type": "code",
     "collapsed": false,
     "input": [
      "simulation = sim.pySimulation()"
     ],
     "language": "python",
     "metadata": {},
     "outputs": [],
     "prompt_number": 3
    },
    {
     "cell_type": "markdown",
     "metadata": {},
     "source": [
      "Set the parameters of the desired system."
     ]
    },
    {
     "cell_type": "code",
     "collapsed": false,
     "input": [
      "simulation.isPeriodic        = True\n",
      "simulation.boxsize           = 20.\n",
      "simulation.timestep          = 0.001\n",
      "simulation.temperature       = 1.\n",
      "simulation.repulsionStrength = 1."
     ],
     "language": "python",
     "metadata": {},
     "outputs": [],
     "prompt_number": 4
    },
    {
     "cell_type": "markdown",
     "metadata": {},
     "source": [
      "Create particles, determining their initial position, type, radius and diffusion constant."
     ]
    },
    {
     "cell_type": "code",
     "collapsed": false,
     "input": [
      "position          = np.array([0.,0.,0.])\n",
      "particleType      = 'soft'\n",
      "radius            = 1.\n",
      "diffusionConstant = 1.\n",
      "\n",
      "simulation.addParticle(\n",
      "    position,\n",
      "    particleType,\n",
      "    radius,\n",
      "    diffusionConstant\n",
      ")"
     ],
     "language": "python",
     "metadata": {},
     "outputs": [],
     "prompt_number": 5
    },
    {
     "cell_type": "markdown",
     "metadata": {},
     "source": [
      "Set the length of the simulation and perform it."
     ]
    },
    {
     "cell_type": "code",
     "collapsed": false,
     "input": [
      "simulation.maxTime = 100\n",
      "simulation.run()"
     ],
     "language": "python",
     "metadata": {},
     "outputs": [],
     "prompt_number": 6
    }
   ],
   "metadata": {}
  }
 ]
}