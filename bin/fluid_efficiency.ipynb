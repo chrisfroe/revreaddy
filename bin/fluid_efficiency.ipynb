{
 "metadata": {
  "name": "",
  "signature": "sha256:b5606d6d47e3e96ab78ce49b42af3daf78e7bd99ad4b9cbf1af90b5663f2fa55"
 },
 "nbformat": 3,
 "nbformat_minor": 0,
 "worksheets": [
  {
   "cells": [
    {
     "cell_type": "code",
     "collapsed": false,
     "input": [
      "%matplotlib inline\n",
      "import numpy as np\n",
      "from matplotlib import rc\n",
      "rc('font', **{'family': 'serif', 'serif': ['Computer Modern'], 'size': 15})\n",
      "rc('text', usetex=True)\n",
      "import matplotlib.pyplot as plt\n",
      "import sim\n",
      "import utils\n",
      "import time"
     ],
     "language": "python",
     "metadata": {},
     "outputs": [],
     "prompt_number": 1
    },
    {
     "cell_type": "markdown",
     "metadata": {},
     "source": [
      "Load an equilibrated system with the desired number of particles and size."
     ]
    },
    {
     "cell_type": "code",
     "collapsed": false,
     "input": [
      "boxsize           = 16.\n",
      "temperature       = 1.\n",
      "particleType      = \"lj\"\n",
      "radius            = 1.\n",
      "diffusionConstant = 1.\n",
      "numberOfParticles = 512\n",
      "\n",
      "# determine filename for the desired system\n",
      "filedir  = \"data/\" \n",
      "filename = filedir + \"equ_\" \\\n",
      "        + \"N\"  + str(numberOfParticles) \\\n",
      "        + \"B\"  + str(boxsize) \\\n",
      "        + \"TE\" + str(temperature) \\\n",
      "        + \"TY\" + str(particleType) \\\n",
      "        + \"R\"  + str(radius) \\\n",
      "        + \"D\"  + str(diffusionConstant) \\\n",
      "        + \".dat\"\n",
      "\n",
      "simulation = utils.loadSimulation(filename)\n",
      "simulation.timestep = 2e-5\n",
      "print \"Number of particles:\", simulation.getParticleNumber()"
     ],
     "language": "python",
     "metadata": {},
     "outputs": [
      {
       "output_type": "stream",
       "stream": "stdout",
       "text": [
        "Number of particles: 512\n"
       ]
      }
     ],
     "prompt_number": 2
    },
    {
     "cell_type": "markdown",
     "metadata": {},
     "source": [
      "Measure the RDF to check if system is sufficiently equilibrated."
     ]
    },
    {
     "cell_type": "code",
     "collapsed": false,
     "input": [
      "ranges = np.arange(0.,12.,0.1)\n",
      "radname = \"rad_\" + time.strftime(\"%Y_%m_%d-%H_%M_%S\") + \".dat\"\n",
      "simulation.new_RadialDistribution(radname, ranges)\n",
      "simulation.maxTime = 1\n",
      "simulation.run()\n",
      "simulation.writeAllObservablesToFile()\n",
      "simulation.deleteAllObservables()\n",
      "rad = np.loadtxt(radname)\n",
      "rdfFig, rdfAxes = plt.subplots()\n",
      "rdfAxes.plot(rad[0], rad[1], color=\"black\")\n",
      "rdfAxes.set_xlabel(\"radial distance\")\n",
      "rdfAxes.set_ylabel(\"probability distribution\")\n",
      "rdfAxes.set_title(\"Radial distribution function\")\n",
      "rdfAxes.grid(b=1)"
     ],
     "language": "python",
     "metadata": {},
     "outputs": [
      {
       "metadata": {},
       "output_type": "display_data",
       "png": "[encoded data removed]",
       "text": [
        "<matplotlib.figure.Figure at 0x7f4c09dc3110>"
       ]
      }
     ],
     "prompt_number": 3
    },
    {
     "cell_type": "markdown",
     "metadata": {},
     "source": [
      "Record a 1000 frame trajectory to visualize."
     ]
    },
    {
     "cell_type": "code",
     "collapsed": false,
     "input": [
      "trajname = \"data/traj_\" + time.strftime(\"%Y_%m_%d-%H_%M_%S\") + \".xyz\"\n",
      "simulation.new_Trajectory(trajname)\n",
      "simulation.maxTime = 1000\n",
      "simulation.run()\n",
      "simulation.writeAllObservablesToFile()\n",
      "simulation.deleteAllObservables()"
     ],
     "language": "python",
     "metadata": {},
     "outputs": [],
     "prompt_number": 4
    },
    {
     "cell_type": "markdown",
     "metadata": {},
     "source": [
      "Now start measuring the efficiency as a function of the timestep. ~8 min"
     ]
    },
    {
     "cell_type": "code",
     "collapsed": false,
     "input": [
      "\n",
      "taus = np.array([\n",
      "    1e-7, 4e-7,\n",
      "    1e-6, 2e-6, 3e-6, 5e-6, 7e-6,\n",
      "    1e-5, 1.5e-5, 2e-5, 3e-5, 4e-5, 5e-5, 7e-5,\n",
      "    1e-4, 2e-4, 4e-4\n",
      "])\n",
      "\"\"\"\n",
      "taus = np.array([\n",
      "    1e-6, 2e-6, 3e-6, \n",
      "    1e-5, 2e-5, 3e-5, 5e-5, 8e-5,\n",
      "    1e-4, 2e-4, 3e-4, 5e-4, 8e-4,\n",
      "    1e-3, 2e-3, 3e-3, 5e-3, 8e-3,\n",
      "    1e-2, 2e-2, 3e-2, 5e-2, 8e-2\n",
      "])\n",
      "\"\"\"\n",
      "etas = np.zeros(len(taus))\n",
      "accs = np.zeros(len(taus))\n",
      "simulation.maxTime = 10000\n",
      "for i in range(len(taus)):\n",
      "    simulation.timestep   = taus[i]\n",
      "    simulation.acceptions = 0\n",
      "    simulation.rejections = 0\n",
      "    simulation.run()\n",
      "    etas[i] = simulation.acceptanceRate() * taus[i]\n",
      "    accs[i] = simulation.acceptanceRate()"
     ],
     "language": "python",
     "metadata": {},
     "outputs": [],
     "prompt_number": 4
    },
    {
     "cell_type": "code",
     "collapsed": false,
     "input": [
      "%matplotlib inline\n",
      "#%matplotlib qt\n",
      "effFig, effAxes = plt.subplots(nrows=2,ncols=1)\n",
      "etaAxes = effAxes[0]\n",
      "etaAxes.plot(taus, etas, \"o\",color=\"black\")\n",
      "etaAxes.set_xlabel(\"timestep\")\n",
      "etaAxes.set_ylabel(\"efficiency\")\n",
      "etaAxes.grid(b=1)\n",
      "etaAxes.set_xscale(\"log\")\n",
      "accAxes = effAxes[1]\n",
      "accAxes.plot(taus, accs, \"o\",color=\"black\")\n",
      "accAxes.set_xlabel(\"timestep\")\n",
      "accAxes.set_ylabel(\"acceptance\")\n",
      "accAxes.grid(b=1)\n",
      "accAxes.set_xscale(\"log\")\n",
      "#effFig.savefig(\"_fluid_efficiency.pdf\", dpi=300)"
     ],
     "language": "python",
     "metadata": {},
     "outputs": [
      {
       "metadata": {},
       "output_type": "display_data",
       "png": "[encoded data removed]",
       "text": [
        "<matplotlib.figure.Figure at 0x7f4c0a6a4150>"
       ]
      }
     ],
     "prompt_number": 5
    },
    {
     "cell_type": "code",
     "collapsed": false,
     "input": [
      "packingDensity  = float(simulation.getParticleNumber()) * 4. * np.pi * radius**3.\n",
      "packingDensity /= 3. * simulation.boxsize**3.\n",
      "print \"Packing-Density:\", packingDensity"
     ],
     "language": "python",
     "metadata": {},
     "outputs": [
      {
       "output_type": "stream",
       "stream": "stdout",
       "text": [
        "Packing-Density: 0.523598775598\n"
       ]
      }
     ],
     "prompt_number": 6
    },
    {
     "cell_type": "code",
     "collapsed": false,
     "input": [
      "\"\"\"\n",
      "eff_soft = np.array([taus, etas, accs])\n",
      "np.savetxt(\"data/eff/eff_soft\", eff_soft, delimiter=\"\\t\")\n",
      "\n",
      "eff_lj= np.array([taus, etas, accs])\n",
      "np.savetxt(\"data/eff/eff_lj.dat\", eff_lj, delimiter=\"\\t\")\n",
      "\"\"\""
     ],
     "language": "python",
     "metadata": {},
     "outputs": [
      {
       "metadata": {},
       "output_type": "pyout",
       "prompt_number": 8,
       "text": [
        "'\\neff_soft = np.array([taus, etas, accs])\\nnp.savetxt(\"data/eff/eff_soft\", eff_soft, delimiter=\"\\t\")\\n\\neff_lj= np.array([taus, etas, accs])\\nnp.savetxt(\"data/eff/eff_lj.dat\", eff_lj, delimiter=\"\\t\")\\n'"
       ]
      }
     ],
     "prompt_number": 8
    }
   ],
   "metadata": {}
  }
 ]
}