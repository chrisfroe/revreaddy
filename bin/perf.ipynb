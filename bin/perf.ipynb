{
 "metadata": {
  "name": "",
  "signature": "sha256:4a7c4315789a5ef5455b241e2b335c669a8b45724f0e758942711093ff38ea5d"
 },
 "nbformat": 3,
 "nbformat_minor": 0,
 "worksheets": [
  {
   "cells": [
    {
     "cell_type": "code",
     "collapsed": false,
     "input": [
      "%matplotlib inline"
     ],
     "language": "python",
     "metadata": {},
     "outputs": [],
     "prompt_number": 1
    },
    {
     "cell_type": "code",
     "collapsed": false,
     "input": [
      "#!/bin/python\n",
      "import numpy as np\n",
      "import sim\n",
      "import time"
     ],
     "language": "python",
     "metadata": {},
     "outputs": [],
     "prompt_number": 2
    },
    {
     "cell_type": "code",
     "collapsed": false,
     "input": [
      "simulation = sim.pySimulation()"
     ],
     "language": "python",
     "metadata": {},
     "outputs": [],
     "prompt_number": 3
    },
    {
     "cell_type": "code",
     "collapsed": false,
     "input": [
      "simulation.isPeriodic        = True\n",
      "simulation.boxsize           = 20.\n",
      "simulation.timestep          = 0.001\n",
      "simulation.temperature       = 1.\n",
      "simulation.repulsionStrength = 1."
     ],
     "language": "python",
     "metadata": {},
     "outputs": [],
     "prompt_number": 4
    },
    {
     "cell_type": "code",
     "collapsed": false,
     "input": [
      "position          = np.array([0.,0.,0.])\n",
      "particleType      = 'soft'\n",
      "radius            = 1.\n",
      "diffusionConstant = 1.\n",
      "\n",
      "for x in np.arange(-10.,10.,4.):\n",
      "    for y in np.arange(-10.,10.,4.):\n",
      "        for z in np.arange(-10.,10.,4.):\n",
      "            position = np.array([x,y,z])\n",
      "            simulation.addParticle(\n",
      "                position,\n",
      "                particleType,\n",
      "                radius,\n",
      "                diffusionConstant\n",
      "            )"
     ],
     "language": "python",
     "metadata": {},
     "outputs": [],
     "prompt_number": 5
    },
    {
     "cell_type": "code",
     "collapsed": false,
     "input": [
      "simulation.maxTime = 1000\n",
      "t1 = time.clock()\n",
      "simulation.run()\n",
      "t2 = time.clock()"
     ],
     "language": "python",
     "metadata": {},
     "outputs": [],
     "prompt_number": 8
    },
    {
     "cell_type": "code",
     "collapsed": false,
     "input": [
      "print \"vector:\", t2 - t1"
     ],
     "language": "python",
     "metadata": {},
     "outputs": [
      {
       "output_type": "stream",
       "stream": "stdout",
       "text": [
        "vector: 3.393385\n"
       ]
      }
     ],
     "prompt_number": 9
    },
    {
     "cell_type": "code",
     "collapsed": false,
     "input": [],
     "language": "python",
     "metadata": {},
     "outputs": []
    }
   ],
   "metadata": {}
  }
 ]
}