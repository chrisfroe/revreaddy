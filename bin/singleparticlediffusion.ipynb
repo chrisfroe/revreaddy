{
 "metadata": {
  "name": "",
  "signature": "sha256:54b355e7719edf227940e5c3afce367dff6d6dd24e813f06cd896d46d61b3a5a"
 },
 "nbformat": 3,
 "nbformat_minor": 0,
 "worksheets": [
  {
   "cells": [
    {
     "cell_type": "markdown",
     "metadata": {},
     "source": [
      "Import all necessary modules, especially the revreaddy simulation module *sim*. Create a pySimulation object."
     ]
    },
    {
     "cell_type": "code",
     "collapsed": false,
     "input": [
      "%matplotlib inline\n",
      "#%matplotlib qt\n",
      "import numpy as np\n",
      "from matplotlib import rc\n",
      "rc('font', **{'family': 'serif', 'serif': ['Computer Modern'], 'size': 15})\n",
      "rc('text', usetex=True)\n",
      "import matplotlib.pyplot as plt\n",
      "import sim\n",
      "\n",
      "simulation = sim.pySimulation()"
     ],
     "language": "python",
     "metadata": {},
     "outputs": [],
     "prompt_number": 1
    },
    {
     "cell_type": "markdown",
     "metadata": {},
     "source": [
      "Set parameters. E.g. for free diffusion of a single particle we don't need a periodic box, therefore set ```simulation.isPeriodic``` to ```False```."
     ]
    },
    {
     "cell_type": "code",
     "collapsed": false,
     "input": [
      "simulation.isPeriodic        = False\n",
      "simulation.timestep          = 0.001\n",
      "simulation.temperature       = 1.\n",
      "simulation.repulsionStrength = 0."
     ],
     "language": "python",
     "metadata": {},
     "outputs": [],
     "prompt_number": 2
    },
    {
     "cell_type": "markdown",
     "metadata": {},
     "source": [
      "Add one particle at ```[0, 0, 0]``` and set its diffusion constant."
     ]
    },
    {
     "cell_type": "code",
     "collapsed": false,
     "input": [
      "zero              = np.array([0.,0.,0.])\n",
      "diffusionConstant = 1.\n",
      "\n",
      "simulation.addParticle(zero, diffusionConst=diffusionConstant)"
     ],
     "language": "python",
     "metadata": {},
     "outputs": [],
     "prompt_number": 3
    },
    {
     "cell_type": "markdown",
     "metadata": {},
     "source": [
      "Now we run the singleparticle diffusion simulation for ```maxit``` times. Every time the particle is set to its initial position ```zero```. An observable is created, which records the trajectory of the first particle in the simulations' particle list (which contains only one particle in this case). The simulation will then run for ```simulation.maxTime``` timesteps. After the trajectory of the particle is obtained, all observables are removed from the simulation."
     ]
    },
    {
     "cell_type": "code",
     "collapsed": false,
     "input": [
      "maxit = 2000\n",
      "simulation.maxTime = 500\n",
      "trajs = np.zeros((maxit, simulation.maxTime, 3), dtype=np.float64)\n",
      "for it in range(maxit):\n",
      "    simulation.setPosition(0, zero)\n",
      "    simulation.new_TrajectorySingle()\n",
      "    simulation.run()\n",
      "    trajs[it] = np.array(simulation.getTrajectorySingle())\n",
      "    simulation.deleteAllObservables()"
     ],
     "language": "python",
     "metadata": {},
     "outputs": [],
     "prompt_number": 8
    },
    {
     "cell_type": "markdown",
     "metadata": {},
     "source": [
      "From the trajectories ```trajs``` we obtain the mean squared deviation and its standard deviation and standard error."
     ]
    },
    {
     "cell_type": "code",
     "collapsed": false,
     "input": [
      "trajs -= zero\n",
      "trajs  = trajs * trajs\n",
      "trajs  = np.sum(trajs, axis=2)\n",
      "meanTrajs  = np.sum(trajs, axis=0)\n",
      "meanTrajs /= float(maxit)\n",
      "#print \"trajs\\n\", trajs\n",
      "#print \"meanTrajs\\n\", meanTrajs\n",
      "deviation  = trajs - meanTrajs\n",
      "deviation  = deviation * deviation\n",
      "deviation  = np.sum(deviation, axis=0)\n",
      "deviation /= float(maxit - 1)\n",
      "deviation  = np.sqrt(deviation)\n",
      "error      = deviation / np.sqrt(float(simulation.maxTime))\n",
      "#print \"deviation\\n\", deviation"
     ],
     "language": "python",
     "metadata": {},
     "outputs": [],
     "prompt_number": 9
    },
    {
     "cell_type": "code",
     "collapsed": false,
     "input": [
      "x = np.arange(simulation.maxTime)\n",
      "every = 10 #-th data point is plotted\n",
      "plt.errorbar(x[::every], meanTrajs[::every], yerr=error[::every], fmt='.', color='black')\n",
      "plt.xlabel(\"time / number of timesteps\")\n",
      "plt.ylabel(\"mean squared deviation\")\n",
      "plt.grid(b=1)\n",
      "plt.show()"
     ],
     "language": "python",
     "metadata": {},
     "outputs": [
      {
       "metadata": {},
       "output_type": "display_data",
       "png": "[encoded data removed]",
       "text": [
        "<matplotlib.figure.Figure at 0x7f86e18dced0>"
       ]
      }
     ],
     "prompt_number": 10
    },
    {
     "cell_type": "code",
     "collapsed": false,
     "input": [],
     "language": "python",
     "metadata": {},
     "outputs": []
    }
   ],
   "metadata": {}
  }
 ]
}