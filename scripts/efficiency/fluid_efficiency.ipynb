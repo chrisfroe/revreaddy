{
 "metadata": {
  "name": "",
  "signature": "sha256:e446eaa4d4445bbea0e6ce8537f1c311a01a694f298fe2259a3ccaf9b56ed50d"
 },
 "nbformat": 3,
 "nbformat_minor": 0,
 "worksheets": [
  {
   "cells": [
    {
     "cell_type": "code",
     "collapsed": false,
     "input": [
      "%matplotlib inline\n",
      "import numpy as np\n",
      "from matplotlib import rc\n",
      "rc('font', **{'family': 'serif', 'serif': ['Computer Modern'], 'size': 15})\n",
      "rc('text', usetex=True)\n",
      "import matplotlib.pyplot as plt\n",
      "import revreaddy.sim as sim\n",
      "import revreaddy.utils as utils\n",
      "import time\n",
      "import os"
     ],
     "language": "python",
     "metadata": {},
     "outputs": [],
     "prompt_number": 1
    },
    {
     "cell_type": "markdown",
     "metadata": {},
     "source": [
      "Load an equilibrated system with the desired number of particles and size."
     ]
    },
    {
     "cell_type": "code",
     "collapsed": false,
     "input": [
      "inParticleType      = \"soft\"\n",
      "inBoxsize           = 16.\n",
      "inNumberOfParticles = 256\n",
      "inRadius            = 1.\n",
      "inDiffusionConstant = 1.\n",
      "inTemperature       = 1.\n",
      "\n",
      "# determine filename for the desired system\n",
      "# navigate a directory above\n",
      "cwd = os.getcwd()\n",
      "par = os.path.abspath( os.path.join(cwd, os.pardir) )\n",
      "os.chdir(par)\n",
      "\n",
      "filedir  = \"saves/\" \n",
      "filename = filedir + \"equ_\" \\\n",
      "        + \"N\"  + str(inNumberOfParticles) \\\n",
      "        + \"B\"  + str(inBoxsize) \\\n",
      "        + \"TE\" + str(inTemperature) \\\n",
      "        + \"TY\" + str(inParticleType) \\\n",
      "        + \"R\"  + str(inRadius) \\\n",
      "        + \"D\"  + str(inDiffusionConstant) \\\n",
      "        + \".hdf5\"\n",
      "\n",
      "simulation = utils.loadSimulation(filename)\n",
      "\n",
      "# navigate back where we were\n",
      "os.chdir(cwd)\n",
      "\n",
      "simulation.timestep = 2e-5\n",
      "print \"Number of particles:\", simulation.getParticleNumber()\n",
      "simulation.showTypes()"
     ],
     "language": "python",
     "metadata": {},
     "outputs": [
      {
       "output_type": "stream",
       "stream": "stdout",
       "text": [
        "Number of particles: 256\n",
        "Number of types: 4\n",
        "Id   Name           Radius    Diffusion-    Reaction-    Force-  \n",
        "                              Constant      Radius       Type    \n",
        "-----------------------------------------------------------------\n",
        "0    default        1.0       0.0           1.0          0       \n",
        "1    lj             1.0       1.0           1.0          1       \n",
        "2    soft           1.0       1.0           1.0          2       \n",
        "3    custom-soft    1.0       1.0           1.0          2       \n"
       ]
      }
     ],
     "prompt_number": 2
    },
    {
     "cell_type": "markdown",
     "metadata": {},
     "source": [
      "Measure the RDF to check if system is sufficiently equilibrated."
     ]
    },
    {
     "cell_type": "code",
     "collapsed": false,
     "input": [
      "ranges = np.arange(0.,12.,0.1)\n",
      "radname = \"data/rad_\" + time.strftime(\"%Y_%m_%d-%H_%M_%S\") + \".dat\"\n",
      "simulation.new_RadialDistribution(radname, ranges, [[3,3]])\n",
      "simulation.maxTime = 0\n",
      "simulation.run()\n",
      "simulation.writeAllObservablesToFile()\n",
      "simulation.deleteAllObservables()\n",
      "rad = np.loadtxt(radname)\n",
      "rdfFig, rdfAxes = plt.subplots()\n",
      "rdfAxes.plot(rad[0], rad[1], color=\"black\")\n",
      "rdfAxes.set_xlabel(\"radial distance\")\n",
      "rdfAxes.set_ylabel(\"probability distribution\")\n",
      "rdfAxes.set_title(\"Radial distribution function\")\n",
      "rdfAxes.grid(b=1)"
     ],
     "language": "python",
     "metadata": {},
     "outputs": [
      {
       "metadata": {},
       "output_type": "display_data",
       "png": "[encoded data removed]",
       "text": [
        "<matplotlib.figure.Figure at 0x7ff6da3d49d0>"
       ]
      }
     ],
     "prompt_number": 5
    },
    {
     "cell_type": "markdown",
     "metadata": {},
     "source": [
      "Record a 1000 frame trajectory to visualize."
     ]
    },
    {
     "cell_type": "code",
     "collapsed": false,
     "input": [
      "trajname = \"data/traj_\" + time.strftime(\"%Y_%m_%d-%H_%M_%S\") + \".xyz\"\n",
      "simulation.new_Trajectory(trajname)\n",
      "simulation.timestep = 1e-5\n",
      "simulation.maxTime = 1000\n",
      "simulation.run()\n",
      "simulation.writeAllObservablesToFile()\n",
      "simulation.deleteAllObservables()"
     ],
     "language": "python",
     "metadata": {},
     "outputs": [],
     "prompt_number": 6
    },
    {
     "cell_type": "markdown",
     "metadata": {},
     "source": [
      "Now start measuring the efficiency as a function of the timestep. ~8 min"
     ]
    },
    {
     "cell_type": "code",
     "collapsed": false,
     "input": [
      "\n",
      "taus = np.array([\n",
      "    1e-7, 4e-7,\n",
      "    1e-6, 2e-6, 3e-6, 5e-6, 7e-6,\n",
      "    1e-5, 1.5e-5, 2e-5, 3e-5, 4e-5, 5e-5, 7e-5,\n",
      "    1e-4, 2e-4, 4e-4\n",
      "])\n",
      "\"\"\"\n",
      "taus = np.array([\n",
      "    1e-6, 2e-6, 3e-6, \n",
      "    1e-5, 2e-5, 3e-5, 5e-5, 8e-5,\n",
      "    1e-4, 2e-4, 3e-4, 5e-4, 8e-4,\n",
      "    1e-3, 2e-3, 3e-3, 5e-3, 8e-3,\n",
      "    1e-2, 2e-2, 3e-2, 5e-2, 8e-2\n",
      "])\n",
      "\"\"\"\n",
      "etas = np.zeros(len(taus))\n",
      "accs = np.zeros(len(taus))\n",
      "simulation.maxTime = 10000\n",
      "for i in range(len(taus)):\n",
      "    simulation.timestep   = taus[i]\n",
      "    simulation.acceptions = 0\n",
      "    simulation.rejections = 0\n",
      "    simulation.run()\n",
      "    etas[i] = simulation.acceptanceRate() * taus[i]\n",
      "    accs[i] = simulation.acceptanceRate()"
     ],
     "language": "python",
     "metadata": {},
     "outputs": [],
     "prompt_number": 7
    },
    {
     "cell_type": "code",
     "collapsed": false,
     "input": [
      "%matplotlib inline\n",
      "#%matplotlib qt\n",
      "effFig, effAxes = plt.subplots(nrows=2,ncols=1)\n",
      "etaAxes = effAxes[0]\n",
      "etaAxes.plot(taus, etas, \"o\",color=\"black\")\n",
      "etaAxes.set_xlabel(\"timestep\")\n",
      "etaAxes.set_ylabel(\"efficiency\")\n",
      "etaAxes.grid(b=1)\n",
      "etaAxes.set_xscale(\"log\")\n",
      "accAxes = effAxes[1]\n",
      "accAxes.plot(taus, accs, \"o\",color=\"black\")\n",
      "accAxes.set_xlabel(\"timestep\")\n",
      "accAxes.set_ylabel(\"acceptance\")\n",
      "accAxes.grid(b=1)\n",
      "accAxes.set_xscale(\"log\")\n",
      "#effFig.savefig(\"_fluid_efficiency.pdf\", dpi=300)"
     ],
     "language": "python",
     "metadata": {},
     "outputs": [
      {
       "metadata": {},
       "output_type": "display_data",
       "png": "[encoded data removed]",
       "text": [
        "<matplotlib.figure.Figure at 0x7ff6f83dd050>"
       ]
      }
     ],
     "prompt_number": 8
    },
    {
     "cell_type": "code",
     "collapsed": false,
     "input": [
      "packingDensity  = float(simulation.getParticleNumber()) * 4. * np.pi * inRadius**3.\n",
      "packingDensity /= 3. * simulation.boxsize**3.\n",
      "print \"Packing-Density:\", packingDensity"
     ],
     "language": "python",
     "metadata": {},
     "outputs": [
      {
       "output_type": "stream",
       "stream": "stdout",
       "text": [
        "Packing-Density: 0.261799387799\n"
       ]
      }
     ],
     "prompt_number": 10
    },
    {
     "cell_type": "code",
     "collapsed": false,
     "input": [
      "\"\"\"\n",
      "eff_soft = np.array([taus, etas, accs])\n",
      "np.savetxt(\"data/eff/eff_soft\", eff_soft, delimiter=\"\\t\")\n",
      "\n",
      "eff_lj= np.array([taus, etas, accs])\n",
      "np.savetxt(\"data/eff/eff_lj.dat\", eff_lj, delimiter=\"\\t\")\n",
      "\"\"\""
     ],
     "language": "python",
     "metadata": {},
     "outputs": [
      {
       "metadata": {},
       "output_type": "pyout",
       "prompt_number": 8,
       "text": [
        "'\\neff_soft = np.array([taus, etas, accs])\\nnp.savetxt(\"data/eff/eff_soft\", eff_soft, delimiter=\"\\t\")\\n\\neff_lj= np.array([taus, etas, accs])\\nnp.savetxt(\"data/eff/eff_lj.dat\", eff_lj, delimiter=\"\\t\")\\n'"
       ]
      }
     ],
     "prompt_number": 8
    }
   ],
   "metadata": {}
  }
 ]
}