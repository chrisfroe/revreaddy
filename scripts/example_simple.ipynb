{
 "metadata": {
  "name": "",
  "signature": "sha256:35aa9ff4b1cea1ec6c933754c130716be4c66fba3444d3eb239a07ed75e42392"
 },
 "nbformat": 3,
 "nbformat_minor": 0,
 "worksheets": [
  {
   "cells": [
    {
     "cell_type": "markdown",
     "metadata": {},
     "source": [
      "Import the cython module *sim* that has been compiled before."
     ]
    },
    {
     "cell_type": "code",
     "collapsed": false,
     "input": [
      "#!/bin/python\n",
      "import numpy as np\n",
      "import revreaddy.sim as sim"
     ],
     "language": "python",
     "metadata": {},
     "outputs": [],
     "prompt_number": 1
    },
    {
     "cell_type": "markdown",
     "metadata": {},
     "source": [
      "Create an object of type *pySimulation* which is a wrapper of the C++ class *Simulation*. This class instantiates and holds all other subclasses (e.g. random number generator) needed to perform the simulation."
     ]
    },
    {
     "cell_type": "code",
     "collapsed": false,
     "input": [
      "simulation = sim.pySimulation()"
     ],
     "language": "python",
     "metadata": {},
     "outputs": [],
     "prompt_number": 2
    },
    {
     "cell_type": "markdown",
     "metadata": {},
     "source": [
      "Set the parameters of the desired system."
     ]
    },
    {
     "cell_type": "code",
     "collapsed": false,
     "input": [
      "simulation.isPeriodic        = True\n",
      "simulation.boxsize           = 20.\n",
      "simulation.timestep          = 0.001\n",
      "simulation.temperature       = 1.\n",
      "simulation.repulsionStrength = 1."
     ],
     "language": "python",
     "metadata": {},
     "outputs": [],
     "prompt_number": 3
    },
    {
     "cell_type": "markdown",
     "metadata": {},
     "source": [
      "Create particles, determining their initial position and type, where type is an unsigned integer."
     ]
    },
    {
     "cell_type": "code",
     "collapsed": false,
     "input": [
      "position          = np.array([0.,0.,0.])\n",
      "particleType      = sim.typeStringToId[\"soft\"]\n",
      "\n",
      "simulation.addParticle(\n",
      "    position,\n",
      "    particleType)"
     ],
     "language": "python",
     "metadata": {},
     "outputs": [],
     "prompt_number": 4
    },
    {
     "cell_type": "markdown",
     "metadata": {},
     "source": [
      "Set the length of the simulation and perform it."
     ]
    },
    {
     "cell_type": "code",
     "collapsed": false,
     "input": [
      "simulation.maxTime = 100\n",
      "simulation.run()"
     ],
     "language": "python",
     "metadata": {},
     "outputs": [],
     "prompt_number": 5
    },
    {
     "cell_type": "code",
     "collapsed": false,
     "input": [],
     "language": "python",
     "metadata": {},
     "outputs": []
    }
   ],
   "metadata": {}
  }
 ]
}