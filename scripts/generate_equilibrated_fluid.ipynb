{
 "metadata": {
  "name": "",
  "signature": "sha256:65ed67603db5c96ac12d48c8da67259b545cd63128482f5ca1741430920c1986"
 },
 "nbformat": 3,
 "nbformat_minor": 0,
 "worksheets": [
  {
   "cells": [
    {
     "cell_type": "code",
     "collapsed": false,
     "input": [
      "%matplotlib inline\n",
      "import numpy as np\n",
      "from matplotlib import rc\n",
      "rc('font', **{'family': 'serif', 'serif': ['Computer Modern'], 'size': 15})\n",
      "rc('text', usetex=True)\n",
      "import matplotlib.pyplot as plt\n",
      "import revreaddy.sim as sim\n",
      "import time\n",
      "import revreaddy.utils as utils\n",
      "simulation = sim.pySimulation()"
     ],
     "language": "python",
     "metadata": {},
     "outputs": [],
     "prompt_number": 1
    },
    {
     "cell_type": "markdown",
     "metadata": {},
     "source": [
      "Set the input parameters and create an according particle type:"
     ]
    },
    {
     "cell_type": "code",
     "collapsed": false,
     "input": [
      "inParticleType      = \"soft\"\n",
      "inBoxsize           = 16.\n",
      "inNumberOfParticles = 256\n",
      "inRadius            = 1.\n",
      "inDiffusionConstant = 1.\n",
      "inTemperature       = 1.\n",
      "simulation.new_Type(\"custom-soft\", inRadius, inDiffusionConstant, 1., sim.typeStringToId[inParticleType])"
     ],
     "language": "python",
     "metadata": {},
     "outputs": [],
     "prompt_number": 2
    },
    {
     "cell_type": "code",
     "collapsed": false,
     "input": [
      "simulation.showTypes()"
     ],
     "language": "python",
     "metadata": {},
     "outputs": [
      {
       "output_type": "stream",
       "stream": "stdout",
       "text": [
        "Number of types: 4\n",
        "Id   Name           Radius    Diffusion-    Reaction-    Force-  \n",
        "                              Constant      Radius       Type    \n",
        "-----------------------------------------------------------------\n",
        "0    default        1.0       0.0           1.0          0       \n",
        "1    lj             1.0       1.0           1.0          1       \n",
        "2    soft           1.0       1.0           1.0          2       \n",
        "3    custom-soft    1.0       1.0           1.0          2       \n"
       ]
      }
     ],
     "prompt_number": 3
    },
    {
     "cell_type": "code",
     "collapsed": false,
     "input": [
      "simulation.isPeriodic        = True\n",
      "simulation.boxsize           = inBoxsize\n",
      "simulation.temperature       = inTemperature\n",
      "simulation.repulsionStrength = 1.\n",
      "particleType                 = sim.typeStringToId[inParticleType]\n",
      "radius                       = inRadius\n",
      "diffusionConstant            = inDiffusionConstant\n",
      "\n",
      "L = simulation.boxsize / 2.\n",
      "distance = simulation.boxsize * float(inNumberOfParticles)**(-1./3.)\n",
      "# make sure that system is not too dense\n",
      "if (distance < 1.9*radius):\n",
      "    distance = 1.9*radius\n",
      "    print \"system too dense. particle distance was corrected\"\n",
      "    \n",
      "for x in np.arange(-L, L, distance):\n",
      "    for y in np.arange(-L, L, distance):\n",
      "        for z in np.arange(-L, L, distance):\n",
      "            if (simulation.getParticleNumber() < inNumberOfParticles):\n",
      "                position = np.array([x, y, z])\n",
      "                simulation.addParticle(\n",
      "                    position,\n",
      "                    3,\n",
      "                )\n",
      "print \"Number of particles:\", simulation.getParticleNumber()"
     ],
     "language": "python",
     "metadata": {},
     "outputs": [
      {
       "output_type": "stream",
       "stream": "stdout",
       "text": [
        "Number of particles: 256\n"
       ]
      }
     ],
     "prompt_number": 4
    },
    {
     "cell_type": "markdown",
     "metadata": {},
     "source": [
      "Run the simulation and check if system is equilibrated."
     ]
    },
    {
     "cell_type": "code",
     "collapsed": false,
     "input": [
      "# run simulation/equilibrate\n",
      "simulation.timestep   = 1e-5\n",
      "simulation.maxTime    = 30000\n",
      "simulation.acceptions = 0\n",
      "simulation.rejections = 0\n",
      "t1 = time.clock()\n",
      "simulation.run()\n",
      "t2 = time.clock()\n",
      "packingDensity  = float(simulation.getParticleNumber()) * 4. * np.pi * radius**3.\n",
      "packingDensity /= 3. * simulation.boxsize**3.\n",
      "print \"Time for\", simulation.getParticleNumber(),\"particles and\", \\\n",
      "      simulation.maxTime ,\"timesteps:\", t2 - t1, \"seconds\"\n",
      "print \"Acceptance:\", simulation.acceptanceRate()\n",
      "print \"Packing-Density:\", packingDensity\n",
      "\n",
      "# check if equilibrated by RDF\n",
      "ranges = np.arange(0.,12.,0.1)\n",
      "radname = \"data/rad_\" + time.strftime(\"%Y_%m_%d-%H_%M_%S\") + \".dat\"\n",
      "simulation.new_RadialDistribution(radname, ranges, [[3,3]])\n",
      "simulation.maxTime = 0\n",
      "simulation.run()\n",
      "simulation.writeAllObservablesToFile()\n",
      "simulation.deleteAllObservables()\n",
      "rad = np.loadtxt(radname)\n",
      "rdfFig, rdfAxes = plt.subplots()\n",
      "rdfAxes.plot(rad[0], rad[1], color=\"black\")\n",
      "rdfAxes.set_xlabel(\"radial distance\")\n",
      "rdfAxes.set_ylabel(\"probability distribution\")\n",
      "rdfAxes.set_title(\"Radial distribution function\")\n",
      "rdfAxes.grid(b=1)\n",
      "\n",
      "# check if every particle is in box (if system is stable, timestep not too large)\n",
      "for i in range(simulation.getParticleNumber()):\n",
      "    if ((simulation.getPosition(i)[0] < -L) or (simulation.getPosition(i)[0] > L) or \\\n",
      "        (simulation.getPosition(i)[1] < -L) or (simulation.getPosition(i)[1] > L) or \\\n",
      "        (simulation.getPosition(i)[2] < -L) or (simulation.getPosition(i)[2] > L)):\n",
      "        print   \"particle of index\", i,\\\n",
      "                \"is outside the box at\", simulation.getPosition(i) "
     ],
     "language": "python",
     "metadata": {},
     "outputs": [
      {
       "output_type": "stream",
       "stream": "stdout",
       "text": [
        "Time for 256 particles and 30000 timesteps: 31.053003 seconds\n",
        "Acceptance: 0.99813\n",
        "Packing-Density: 0.261799387799\n"
       ]
      },
      {
       "metadata": {},
       "output_type": "display_data",
       "png": "[encoded data removed]",
       "text": [
        "<matplotlib.figure.Figure at 0x7f7470d91b10>"
       ]
      }
     ],
     "prompt_number": 14
    },
    {
     "cell_type": "markdown",
     "metadata": {},
     "source": [
      "Save the system's configuration"
     ]
    },
    {
     "cell_type": "code",
     "collapsed": false,
     "input": [
      "filedir  = \"saves/\" \n",
      "filename = filedir + \"equ_\" \\\n",
      "        + \"N\"  + str(inNumberOfParticles) \\\n",
      "        + \"B\"  + str(inBoxsize) \\\n",
      "        + \"TE\" + str(inTemperature) \\\n",
      "        + \"TY\" + str(inParticleType) \\\n",
      "        + \"R\"  + str(inRadius) \\\n",
      "        + \"D\"  + str(inDiffusionConstant) \\\n",
      "        + \".hdf5\"\n",
      "\n",
      "utils.saveSimulation(filename, simulation)"
     ],
     "language": "python",
     "metadata": {},
     "outputs": [],
     "prompt_number": 15
    },
    {
     "cell_type": "code",
     "collapsed": false,
     "input": [],
     "language": "python",
     "metadata": {},
     "outputs": []
    }
   ],
   "metadata": {}
  }
 ]
}