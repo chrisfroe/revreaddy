{
 "metadata": {
  "name": "",
  "signature": "sha256:d73b06d80b6e82333d5cd177e75b3dcd2525a0ee5f9a38f40a48e8e2c30686d8"
 },
 "nbformat": 3,
 "nbformat_minor": 0,
 "worksheets": [
  {
   "cells": [
    {
     "cell_type": "code",
     "collapsed": false,
     "input": [
      "%matplotlib inline\n",
      "import numpy as np\n",
      "from matplotlib import rc\n",
      "rc('font', **{'family': 'serif', 'serif': ['Computer Modern'], 'size': 15})\n",
      "rc('text', usetex=True)\n",
      "import matplotlib.pyplot as plt\n",
      "import revreaddy.sim as sim\n",
      "import time\n",
      "import revreaddy.utils as utils"
     ],
     "language": "python",
     "metadata": {},
     "outputs": [],
     "prompt_number": 1
    },
    {
     "cell_type": "markdown",
     "metadata": {},
     "source": [
      "Set the input parameters and create an according particle type:"
     ]
    },
    {
     "cell_type": "code",
     "collapsed": false,
     "input": [
      "inParticleType      = \"lj\"\n",
      "inBoxsize           = 15.\n",
      "inNumberOfParticles = 300\n",
      "inRadius            = 1.\n",
      "inDiffusionConstant = 1.\n",
      "inTemperature       = 1.1\n"
     ],
     "language": "python",
     "metadata": {},
     "outputs": [],
     "prompt_number": 2
    },
    {
     "cell_type": "code",
     "collapsed": false,
     "input": [
      "simulation = sim.pySimulation()\n",
      "simulation.new_Type(\"custom-lj\", inRadius, inDiffusionConstant, 1., sim.typeStringToId[inParticleType])\n",
      "simulation.showTypes()"
     ],
     "language": "python",
     "metadata": {},
     "outputs": [
      {
       "output_type": "stream",
       "stream": "stdout",
       "text": [
        "Number of types: 4\n",
        "Id   Name           Radius    Diffusion-    Reaction-    Force-  \n",
        "                              Constant      Radius       Type    \n",
        "-----------------------------------------------------------------\n",
        "0    default        1.0       0.0           1.0          0       \n",
        "1    lj             1.0       1.0           1.0          1       \n",
        "2    soft           1.0       1.0           1.0          2       \n",
        "3    custom-lj      1.0       1.0           1.0          1       \n"
       ]
      }
     ],
     "prompt_number": 3
    },
    {
     "cell_type": "code",
     "collapsed": false,
     "input": [
      "simulation.isPeriodic        = True\n",
      "simulation.boxsize           = inBoxsize\n",
      "simulation.temperature       = inTemperature\n",
      "simulation.repulsionStrength = 1.\n",
      "particleType                 = sim.typeStringToId[inParticleType]\n",
      "radius                       = inRadius\n",
      "diffusionConstant            = inDiffusionConstant\n",
      "\n",
      "L = simulation.boxsize / 2.\n",
      "distance = simulation.boxsize * float(inNumberOfParticles)**(-1./3.)\n",
      "# make sure that system is not too dense\n",
      "if (distance < 1.9*radius):\n",
      "    distance = 1.9*radius\n",
      "    print \"system too dense. particle distance was corrected\"\n",
      "    \n",
      "for x in np.arange(-L, L, distance):\n",
      "    for y in np.arange(-L, L, distance):\n",
      "        for z in np.arange(-L, L, distance):\n",
      "            if (simulation.getParticleNumber() < inNumberOfParticles):\n",
      "                position = np.array([x, y, z])\n",
      "                simulation.addParticle(\n",
      "                    position,\n",
      "                    3,\n",
      "                )\n",
      "print \"Number of particles:\", simulation.getParticleNumber()"
     ],
     "language": "python",
     "metadata": {},
     "outputs": [
      {
       "output_type": "stream",
       "stream": "stdout",
       "text": [
        "Number of particles: 300\n"
       ]
      }
     ],
     "prompt_number": 18
    },
    {
     "cell_type": "markdown",
     "metadata": {},
     "source": [
      "### Alternatively load other system"
     ]
    },
    {
     "cell_type": "code",
     "collapsed": false,
     "input": [
      "\"\"\"\n",
      "filedir  = \"saves/\" \n",
      "filename = filedir + \"equ_\" \\\n",
      "        + \"N\"  + str(inNumberOfParticles) \\\n",
      "        + \"B\"  + str(inBoxsize) \\\n",
      "        + \"TE\" + str(inTemperature) \\\n",
      "        + \"TY\" + str(inParticleType) \\\n",
      "        + \"R\"  + str(inRadius) \\\n",
      "        + \"D\"  + str(inDiffusionConstant) \\\n",
      "        + \".hdf5\"\n",
      "\n",
      "simulation = utils.loadSimulation(\"rdfnormtest.hdf5\")\n",
      "simulation.showTypes()\n",
      "\"\"\""
     ],
     "language": "python",
     "metadata": {},
     "outputs": [
      {
       "output_type": "stream",
       "stream": "stdout",
       "text": [
        "Number of types: 4\n",
        "Id   Name           Radius    Diffusion-    Reaction-    Force-  \n",
        "                              Constant      Radius       Type    \n",
        "-----------------------------------------------------------------\n",
        "0    default        1.0       0.0           1.0          0       \n",
        "1    lj             1.0       1.0           1.0          1       \n",
        "2    soft           1.0       1.0           1.0          2       \n",
        "3    custom-lj      1.0       1.0           1.0          1       \n"
       ]
      }
     ],
     "prompt_number": 4
    },
    {
     "cell_type": "markdown",
     "metadata": {},
     "source": [
      "### Run the simulation and check if system is equilibrated."
     ]
    },
    {
     "cell_type": "code",
     "collapsed": false,
     "input": [
      "# run simulation/equilibrate\n",
      "simulation.timestep   = 1e-6\n",
      "simulation.maxTime    = 1000\n",
      "simulation.acceptions = 0\n",
      "simulation.rejections = 0\n",
      "t1 = time.clock()\n",
      "simulation.run()\n",
      "t2 = time.clock()\n",
      "L = simulation.boxsize / 2.\n",
      "packingDensity  = float(simulation.getParticleNumber()) * 4. * np.pi * inRadius**3.\n",
      "packingDensity /= 3. * simulation.boxsize**3.\n",
      "print \"Time for\", simulation.getParticleNumber(),\"particles and\", \\\n",
      "      simulation.maxTime ,\"timesteps:\", t2 - t1, \"seconds\"\n",
      "print \"Acceptance:\", simulation.acceptanceRate()\n",
      "print \"Packing-Density:\", packingDensity\n",
      "print \"Boxsize:\", simulation.boxsize\n",
      "\n",
      "# check if equilibrated by RDF\n",
      "ranges = np.arange(0.,12.,0.1)\n",
      "radname = \"data/rad_\" + time.strftime(\"%Y_%m_%d-%H_%M_%S\") + \".dat\"\n",
      "probname = \"data/prob_\" + time.strftime(\"%Y_%m_%d-%H_%M_%S\") + \".dat\"\n",
      "simulation.new_RadialDistribution(radname, ranges, [[3,3]])\n",
      "simulation.new_ProbabilityDensity(probname, 3, np.arange(-L,L+1.5,1.5), 0)\n",
      "simulation.maxTime = 20\n",
      "simulation.run()\n",
      "simulation.writeAllObservablesToFile()\n",
      "simulation.deleteAllObservables()\n",
      "rad = np.loadtxt(radname)\n",
      "prob = np.loadtxt(probname)\n",
      "fig, (rdfAxes, probAxes) = plt.subplots(1, 2)\n",
      "rdfAxes.plot(rad[0], 0.001421*rad[1], color=\"black\")\n",
      "rdfAxes.set_xlabel(\"radial distance\")\n",
      "rdfAxes.set_ylabel(\"probability distribution\")\n",
      "rdfAxes.set_title(\"Radial distribution function\")\n",
      "rdfAxes.grid(b=1)\n",
      "probAxes.plot(prob[0], prob[1], \"o\", color=\"black\")\n",
      "probAxes.set_xlabel(\"location x\")\n",
      "probAxes.set_ylabel(\"probability distribution\")\n",
      "probAxes.set_title(\"Probability density\")\n",
      "ylim = probAxes.get_ylim()\n",
      "probAxes.set_ylim(0.,ylim[1])\n",
      "probAxes.grid(b=1)\n",
      "fig.set_figwidth(16.)\n",
      "# check if every particle is in box (if system is stable, timestep not too large)\n",
      "\n",
      "for i in range(simulation.getParticleNumber()):\n",
      "    if ((simulation.getPosition(i)[0] < -L) or (simulation.getPosition(i)[0] > L) or \\\n",
      "        (simulation.getPosition(i)[1] < -L) or (simulation.getPosition(i)[1] > L) or \\\n",
      "        (simulation.getPosition(i)[2] < -L) or (simulation.getPosition(i)[2] > L)):\n",
      "        print   \"particle of index\", i,\\\n",
      "                \"is outside the box at\", simulation.getPosition(i) "
     ],
     "language": "python",
     "metadata": {},
     "outputs": [
      {
       "output_type": "stream",
       "stream": "stdout",
       "text": [
        "Time for 300 particles and 1000 timesteps: 1.981782 seconds\n",
        "Acceptance: 0.97798\n",
        "Packing-Density: 0.372336907092\n",
        "Boxsize: 15.0\n"
       ]
      },
      {
       "metadata": {},
       "output_type": "display_data",
       "png": "[encoded data removed]",
       "text": [
        "<matplotlib.figure.Figure at 0x7efd6c62f150>"
       ]
      }
     ],
     "prompt_number": 5
    },
    {
     "cell_type": "markdown",
     "metadata": {},
     "source": [
      "Save the system's configuration"
     ]
    },
    {
     "cell_type": "markdown",
     "metadata": {},
     "source": [
      "Box resize\n",
      "----------"
     ]
    },
    {
     "cell_type": "code",
     "collapsed": false,
     "input": [
      "for bs in np.arange(12.04,11.48,-0.02):\n",
      "    # run simulation/equilibrate\n",
      "    simulation.boxsize    = bs\n",
      "    simulation.timestep   = 1e-6\n",
      "    simulation.maxTime    = 20000\n",
      "    simulation.acceptions = 0\n",
      "    simulation.rejections = 0\n",
      "    t1 = time.clock()\n",
      "    simulation.run()\n",
      "    t2 = time.clock()\n",
      "    packingDensity  = float(simulation.getParticleNumber()) * 4. * np.pi * radius**3.\n",
      "    packingDensity /= 3. * simulation.boxsize**3.\n",
      "    print \"Time for\", simulation.getParticleNumber(),\"particles and\", \\\n",
      "          simulation.maxTime ,\"timesteps:\", t2 - t1, \"seconds\"\n",
      "    print \"Acceptance:\", simulation.acceptanceRate()\n",
      "    print \"Packing-Density:\", packingDensity\n",
      "    print \"Boxsize:\", simulation.boxsize\n",
      "    inBoxsize = bs"
     ],
     "language": "python",
     "metadata": {},
     "outputs": [
      {
       "output_type": "stream",
       "stream": "stdout",
       "text": [
        "Time for 300 particles and 20000 timesteps: 47.381665 seconds\n",
        "Acceptance: 0.93035\n",
        "Packing-Density: 0.719996529815\n",
        "Boxsize: 12.04\n",
        "Time for"
       ]
      },
      {
       "output_type": "stream",
       "stream": "stdout",
       "text": [
        " 300 particles and 20000 timesteps: 47.450633 seconds\n",
        "Acceptance: 0.92515\n",
        "Packing-Density: 0.723596505814\n",
        "Boxsize: 12.02\n",
        "Time for"
       ]
      },
      {
       "output_type": "stream",
       "stream": "stdout",
       "text": [
        " 300 particles and 20000 timesteps: 47.884795 seconds\n",
        "Acceptance: 0.9237\n",
        "Packing-Density: 0.727220521664\n",
        "Boxsize: 12.0\n",
        "Time for"
       ]
      },
      {
       "output_type": "stream",
       "stream": "stdout",
       "text": [
        " 300 particles and 20000 timesteps: 47.811458 seconds\n",
        "Acceptance: 0.9238\n",
        "Packing-Density: 0.730868778367\n",
        "Boxsize: 11.98\n",
        "Time for"
       ]
      },
      {
       "output_type": "stream",
       "stream": "stdout",
       "text": [
        " 300 particles and 20000 timesteps: 47.792446 seconds\n",
        "Acceptance: 0.925\n",
        "Packing-Density: 0.734541478943\n",
        "Boxsize: 11.96\n",
        "Time for"
       ]
      },
      {
       "output_type": "stream",
       "stream": "stdout",
       "text": [
        " 300 particles and 20000 timesteps: 47.772411 seconds\n",
        "Acceptance: 0.9242\n",
        "Packing-Density: 0.738238828459\n",
        "Boxsize: 11.94\n",
        "Time for"
       ]
      },
      {
       "output_type": "stream",
       "stream": "stdout",
       "text": [
        " 300 particles and 20000 timesteps: 47.742538 seconds\n",
        "Acceptance: 0.92415\n",
        "Packing-Density: 0.741961034048\n",
        "Boxsize: 11.92\n",
        "Time for"
       ]
      },
      {
       "output_type": "stream",
       "stream": "stdout",
       "text": [
        " 300 particles and 20000 timesteps: 47.997263 seconds\n",
        "Acceptance: 0.92535\n",
        "Packing-Density: 0.745708304935\n",
        "Boxsize: 11.9\n",
        "Time for"
       ]
      },
      {
       "output_type": "stream",
       "stream": "stdout",
       "text": [
        " 300 particles and 20000 timesteps: 47.889067 seconds\n",
        "Acceptance: 0.9178\n",
        "Packing-Density: 0.749480852463\n",
        "Boxsize: 11.88\n",
        "Time for"
       ]
      },
      {
       "output_type": "stream",
       "stream": "stdout",
       "text": [
        " 300 particles and 20000 timesteps: 48.269355 seconds\n",
        "Acceptance: 0.91915\n",
        "Packing-Density: 0.753278890117\n",
        "Boxsize: 11.86\n",
        "Time for"
       ]
      },
      {
       "output_type": "stream",
       "stream": "stdout",
       "text": [
        " 300 particles and 20000 timesteps: 48.036683 seconds\n",
        "Acceptance: 0.91815\n",
        "Packing-Density: 0.757102633549\n",
        "Boxsize: 11.84\n",
        "Time for"
       ]
      },
      {
       "output_type": "stream",
       "stream": "stdout",
       "text": [
        " 300 particles and 20000 timesteps: 48.208223 seconds\n",
        "Acceptance: 0.91155\n",
        "Packing-Density: 0.760952300603\n",
        "Boxsize: 11.82\n",
        "Time for"
       ]
      },
      {
       "output_type": "stream",
       "stream": "stdout",
       "text": [
        " 300 particles and 20000 timesteps: 48.318081 seconds\n",
        "Acceptance: 0.9089\n",
        "Packing-Density: 0.764828111343\n",
        "Boxsize: 11.8\n",
        "Time for"
       ]
      },
      {
       "output_type": "stream",
       "stream": "stdout",
       "text": [
        " 300 particles and 20000 timesteps: 48.410938 seconds\n",
        "Acceptance: 0.91025\n",
        "Packing-Density: 0.768730288079\n",
        "Boxsize: 11.78\n",
        "Time for"
       ]
      },
      {
       "output_type": "stream",
       "stream": "stdout",
       "text": [
        " 300 particles and 20000 timesteps: 48.533675 seconds\n",
        "Acceptance: 0.91175\n",
        "Packing-Density: 0.772659055394\n",
        "Boxsize: 11.76\n",
        "Time for"
       ]
      },
      {
       "output_type": "stream",
       "stream": "stdout",
       "text": [
        " 300 particles and 20000 timesteps: 48.485139 seconds\n",
        "Acceptance: 0.9112\n",
        "Packing-Density: 0.776614640168\n",
        "Boxsize: 11.74\n",
        "Time for"
       ]
      },
      {
       "output_type": "stream",
       "stream": "stdout",
       "text": [
        " 300 particles and 20000 timesteps: 48.778277 seconds\n",
        "Acceptance: 0.9097\n",
        "Packing-Density: 0.78059727161\n",
        "Boxsize: 11.72\n",
        "Time for"
       ]
      },
      {
       "output_type": "stream",
       "stream": "stdout",
       "text": [
        " 300 particles and 20000 timesteps: 48.831433 seconds\n",
        "Acceptance: 0.91245\n",
        "Packing-Density: 0.784607181283\n",
        "Boxsize: 11.7\n",
        "Time for"
       ]
      },
      {
       "output_type": "stream",
       "stream": "stdout",
       "text": [
        " 300 particles and 20000 timesteps: 49.255735 seconds\n",
        "Acceptance: 0.90975\n",
        "Packing-Density: 0.788644603133\n",
        "Boxsize: 11.68\n",
        "Time for"
       ]
      },
      {
       "output_type": "stream",
       "stream": "stdout",
       "text": [
        " 300 particles and 20000 timesteps: 49.008103 seconds\n",
        "Acceptance: 0.90645\n",
        "Packing-Density: 0.79270977352\n",
        "Boxsize: 11.66\n",
        "Time for"
       ]
      },
      {
       "output_type": "stream",
       "stream": "stdout",
       "text": [
        " 300 particles and 20000 timesteps: 48.798679 seconds\n",
        "Acceptance: 0.89699\n",
        "Packing-Density: 0.796802931241\n",
        "Boxsize: 11.64\n",
        "Time for"
       ]
      },
      {
       "output_type": "stream",
       "stream": "stdout",
       "text": [
        " 300 particles and 20000 timesteps: 48.927381 seconds\n",
        "Acceptance: 0.9028\n",
        "Packing-Density: 0.800924317566\n",
        "Boxsize: 11.62\n",
        "Time for"
       ]
      },
      {
       "output_type": "stream",
       "stream": "stdout",
       "text": [
        " 300 particles and 20000 timesteps: 49.119667 seconds\n",
        "Acceptance: 0.89924\n",
        "Packing-Density: 0.805074176265\n",
        "Boxsize: 11.6\n",
        "Time for"
       ]
      },
      {
       "output_type": "stream",
       "stream": "stdout",
       "text": [
        " 300 particles and 20000 timesteps: 49.235982 seconds\n",
        "Acceptance: 0.89599\n",
        "Packing-Density: 0.809252753639\n",
        "Boxsize: 11.58\n",
        "Time for"
       ]
      },
      {
       "output_type": "stream",
       "stream": "stdout",
       "text": [
        " 300 particles and 20000 timesteps: 49.158995 seconds\n",
        "Acceptance: 0.89259\n",
        "Packing-Density: 0.813460298547\n",
        "Boxsize: 11.56\n",
        "Time for"
       ]
      },
      {
       "output_type": "stream",
       "stream": "stdout",
       "text": [
        " 300 particles and 20000 timesteps: 49.424741 seconds\n",
        "Acceptance: 0.89429\n",
        "Packing-Density: 0.817697062444\n",
        "Boxsize: 11.54\n",
        "Time for"
       ]
      },
      {
       "output_type": "stream",
       "stream": "stdout",
       "text": [
        " 300 particles and 20000 timesteps: 49.567224 seconds\n",
        "Acceptance: 0.88844\n",
        "Packing-Density: 0.821963299407\n",
        "Boxsize: 11.52\n",
        "Time for"
       ]
      },
      {
       "output_type": "stream",
       "stream": "stdout",
       "text": [
        " 300 particles and 20000 timesteps: 50.895656 seconds\n",
        "Acceptance: 0.88429\n",
        "Packing-Density: 0.82625926617\n",
        "Boxsize: 11.5\n"
       ]
      }
     ],
     "prompt_number": 18
    },
    {
     "cell_type": "code",
     "collapsed": false,
     "input": [
      "filedir  = \"saves/\" \n",
      "filename = filedir + \"equ_\" \\\n",
      "        + \"N\"  + str(simulation.getParticleNumber()) \\\n",
      "        + \"B\"  + str(inBoxsize) \\\n",
      "        + \"TE\" + str(inTemperature) \\\n",
      "        + \"TY\" + str(inParticleType) \\\n",
      "        + \"R\"  + str(inRadius) \\\n",
      "        + \"D\"  + str(inDiffusionConstant) \\\n",
      "        + \".hdf5\"\n",
      "\n",
      "utils.saveSimulation(filename, simulation)"
     ],
     "language": "python",
     "metadata": {},
     "outputs": [],
     "prompt_number": 34
    }
   ],
   "metadata": {}
  }
 ]
}