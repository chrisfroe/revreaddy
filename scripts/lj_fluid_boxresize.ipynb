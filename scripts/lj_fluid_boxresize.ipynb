{
 "metadata": {
  "name": "",
  "signature": "sha256:902a65713489ec425700b9a0da7927326e2123143620da304e80b0e29f814f82"
 },
 "nbformat": 3,
 "nbformat_minor": 0,
 "worksheets": [
  {
   "cells": [
    {
     "cell_type": "code",
     "collapsed": false,
     "input": [
      "%matplotlib inline\n",
      "#%matplotlib qt\n",
      "import numpy as np\n",
      "from matplotlib import rc\n",
      "rc('font', **{'family': 'serif', 'serif': ['Computer Modern'], 'size': 15})\n",
      "rc('text', usetex=True)\n",
      "import matplotlib.pyplot as plt\n",
      "import pylab\n",
      "pylab.rcParams['figure.figsize'] = (12.0, 6.0)\n",
      "import sim\n",
      "import time\n",
      "simulation = sim.pySimulation()"
     ],
     "language": "python",
     "metadata": {},
     "outputs": [],
     "prompt_number": 1
    },
    {
     "cell_type": "code",
     "collapsed": false,
     "input": [
      "simulation.isPeriodic        = True\n",
      "simulation.boxsize           = 10.\n",
      "simulation.timestep          = 0.00001\n",
      "simulation.temperature       = 1.\n",
      "simulation.repulsionStrength = 1."
     ],
     "language": "python",
     "metadata": {},
     "outputs": [],
     "prompt_number": 2
    },
    {
     "cell_type": "code",
     "collapsed": false,
     "input": [
      "particleType      = sim.typeStringToId[\"lj\"]\n",
      "radius            = 1.\n",
      "diffusionConstant = 1.\n",
      "\n",
      "L = simulation.boxsize / 2.\n",
      "neighbourDistance = 2.\n",
      "density = neighbourDistance**(-3.)\n",
      "for x in np.arange(-L, L, 2.*radius):\n",
      "    for y in np.arange(-L, L, 2.*radius):\n",
      "        for z in np.arange(-L, L, 2.*radius):\n",
      "            position = np.array([x, y, z])\n",
      "            simulation.addParticle(\n",
      "                position,\n",
      "                particleType,\n",
      "                radius,\n",
      "                diffusionConstant\n",
      "            )"
     ],
     "language": "python",
     "metadata": {},
     "outputs": [],
     "prompt_number": 3
    },
    {
     "cell_type": "code",
     "collapsed": false,
     "input": [
      "simulation.new_Trajectory(\"trajLJ_solid.xyz\")\n",
      "#for BS in np.arange(10.,8.,-0.1):\n",
      "simulation.boxsize = 8.1\n",
      "t1 = time.clock()\n",
      "simulation.maxTime = 40000\n",
      "simulation.run()\n",
      "t2 = time.clock()\n",
      "simulation.writeAllObservablesToFile()\n",
      "simulation.deleteAllObservables()"
     ],
     "language": "python",
     "metadata": {},
     "outputs": [],
     "prompt_number": 8
    },
    {
     "cell_type": "code",
     "collapsed": false,
     "input": [
      "packingDensity  = float(simulation.getParticleNumber()) * 4. * np.pi * radius**3.\n",
      "packingDensity /= 3. * simulation.boxsize**3.\n",
      "print \"Time for\", simulation.getParticleNumber(),\"particles and\", \\\n",
      "      simulation.maxTime ,\"timesteps:\", t2 - t1, \"seconds\"\n",
      "print \"Acceptance:\", simulation.acceptanceRate()\n",
      "#print \"Density:\", density\n",
      "print \"Packing-Density:\", packingDensity "
     ],
     "language": "python",
     "metadata": {},
     "outputs": [
      {
       "output_type": "stream",
       "stream": "stdout",
       "text": [
        "Time for 125 particles and 40000 timesteps: 54.88307 seconds\n",
        "Acceptance: 0.57692\n",
        "Packing-Density: 0.985243471238\n"
       ]
      }
     ],
     "prompt_number": 9
    },
    {
     "cell_type": "code",
     "collapsed": false,
     "input": [
      "ranges = np.arange(0.,10.,0.1)\n",
      "simulation.new_RadialDistribution(\"radLJ.dat\", ranges)\n",
      "simulation.maxTime = 1\n",
      "simulation.run()\n",
      "simulation.writeAllObservablesToFile()\n",
      "simulation.deleteAllObservables()"
     ],
     "language": "python",
     "metadata": {},
     "outputs": [],
     "prompt_number": 20
    },
    {
     "cell_type": "code",
     "collapsed": false,
     "input": [
      "rad = np.loadtxt(\"radLJ.dat\")\n",
      "plt.plot(rad[0], rad[1], color=\"black\")\n",
      "plt.xlabel(\"radial distance\")\n",
      "plt.ylabel(\"probability distribution\")\n",
      "plt.grid(b=1)\n",
      "plt.show()"
     ],
     "language": "python",
     "metadata": {},
     "outputs": [
      {
       "metadata": {},
       "output_type": "display_data",
       "png": "[encoded data removed]",
       "text": [
        "<matplotlib.figure.Figure at 0x7f26c5305b10>"
       ]
      }
     ],
     "prompt_number": 21
    },
    {
     "cell_type": "code",
     "collapsed": false,
     "input": [],
     "language": "python",
     "metadata": {},
     "outputs": []
    }
   ],
   "metadata": {}
  }
 ]
}