{
 "metadata": {
  "name": "",
  "signature": "sha256:056358fe87629a0944adac7406ddb07b6f18dbd8f3ffcbbe88df560ea571b656"
 },
 "nbformat": 3,
 "nbformat_minor": 0,
 "worksheets": [
  {
   "cells": [
    {
     "cell_type": "code",
     "collapsed": false,
     "input": [
      "%matplotlib inline\n",
      "import numpy as np\n",
      "from matplotlib import rc\n",
      "rc('font', **{'family': 'serif', 'serif': ['Computer Modern'], 'size': 15})\n",
      "rc('text', usetex=True)\n",
      "import matplotlib.pyplot as plt"
     ],
     "language": "python",
     "metadata": {},
     "outputs": [],
     "prompt_number": 1
    },
    {
     "cell_type": "code",
     "collapsed": false,
     "input": [
      "# abbreviation for plotting functions in certain range\n",
      "def plot(f,x0,xn,dx, **kw):\n",
      "    xRange = np.arange(x0,xn,dx)\n",
      "    yRange = np.array(map(f,xRange))\n",
      "    plt.plot(xRange,yRange, **kw)"
     ],
     "language": "python",
     "metadata": {},
     "outputs": [],
     "prompt_number": 2
    },
    {
     "cell_type": "code",
     "collapsed": false,
     "input": [
      "f = lambda x: 4.*((1./x)**12-(1./x)**6)\n",
      "def harmonic(x, sigma):\n",
      "    if x>(sigma): return 0.\n",
      "    else: return (x - sigma)**2\n",
      "g = lambda x: harmonic(x, 2.**(1./6.))\n",
      "def hard(x,a,b):\n",
      "    if\n",
      "h = lambda x: hard(x,1.,1.)"
     ],
     "language": "python",
     "metadata": {},
     "outputs": [],
     "prompt_number": 7
    },
    {
     "cell_type": "code",
     "collapsed": false,
     "input": [
      "%matplotlib qt\n",
      "plot(f, 0.5, 5., 0.01, color=\"blue\")\n",
      "plot(g, 0., 5., 0.01, color=\"red\")\n",
      "plot(h, 0.5, 5., 0.01, color=\"green\")\n",
      "plt.ylim(-1.3,1.3)\n",
      "plt.xlim(0.,3.)\n",
      "plt.grid(b=1)\n",
      "plt.show()"
     ],
     "language": "python",
     "metadata": {},
     "outputs": [],
     "prompt_number": 13
    },
    {
     "cell_type": "code",
     "collapsed": false,
     "input": [],
     "language": "python",
     "metadata": {},
     "outputs": []
    }
   ],
   "metadata": {}
  }
 ]
}