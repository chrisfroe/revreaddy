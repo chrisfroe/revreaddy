{
 "metadata": {
  "name": "",
  "signature": "sha256:b8c8f31a7c12359731331ec037b9ca8fd7c04f89e7e55e520378bb3078211851"
 },
 "nbformat": 3,
 "nbformat_minor": 0,
 "worksheets": [
  {
   "cells": [
    {
     "cell_type": "code",
     "collapsed": false,
     "input": [
      "#%matplotlib inline\n",
      "#%matplotlib qt\n",
      "import numpy as np\n",
      "from matplotlib import rc\n",
      "rc('font', **{'family': 'serif', 'serif': ['Computer Modern'], 'size': 15})\n",
      "rc('text', usetex=True)\n",
      "import matplotlib.pyplot as plt\n",
      "import pylab\n",
      "pylab.rcParams['figure.figsize'] = (12.0, 6.0)\n",
      "import revreaddy.sim as sim\n",
      "import revreaddy.utils as utils\n",
      "import time\n",
      "import os"
     ],
     "language": "python",
     "metadata": {},
     "outputs": [],
     "prompt_number": 1
    },
    {
     "cell_type": "code",
     "collapsed": false,
     "input": [
      "boxsize           = 11.5\n",
      "temperature       = 1.\n",
      "particleType      = \"lj\"\n",
      "radius            = 1.\n",
      "diffusionConstant = 1.\n",
      "numberOfParticles = 300\n",
      "\n",
      "# determine filename for the desired system\n",
      "filedir  = \"../../saves/\" \n",
      "filename = filedir + \"equ_\" \\\n",
      "        + \"N\"  + str(numberOfParticles) \\\n",
      "        + \"B\"  + str(boxsize) \\\n",
      "        + \"TE\" + str(temperature) \\\n",
      "        + \"TY\" + str(particleType) \\\n",
      "        + \"R\"  + str(radius) \\\n",
      "        + \"D\"  + str(diffusionConstant) \\\n",
      "        + \".hdf5\"\n",
      "\n",
      "simulation1 = utils.loadSimulation(filename)\n",
      "simulation2 = utils.loadSimulation(filename)\n",
      "\n",
      "print \"Number of particles 1:\", simulation1.getParticleNumber()\n",
      "packingDensity  = float(simulation1.getParticleNumber()) * 4. * np.pi * radius**3.\n",
      "packingDensity /= 3. * simulation1.boxsize**3.\n",
      "print \"packing density 1:\", packingDensity"
     ],
     "language": "python",
     "metadata": {},
     "outputs": [
      {
       "output_type": "stream",
       "stream": "stdout",
       "text": [
        "Number of particles 1: 300\n",
        "packing density 1: 0.82625926617\n"
       ]
      }
     ],
     "prompt_number": 2
    },
    {
     "cell_type": "code",
     "collapsed": false,
     "input": [
      "length = 200000\n",
      "timestep = 1e-6\n",
      "simulation1.showTypes()\n",
      "simulation2.showTypes()\n",
      "simulation1.timestep = timestep\n",
      "simulation2.timestep = timestep"
     ],
     "language": "python",
     "metadata": {},
     "outputs": [
      {
       "output_type": "stream",
       "stream": "stdout",
       "text": [
        "Number of types: 4\n",
        "Id   Name           Radius    Diffusion-    Reaction-    Force-  \n",
        "                              Constant      Radius       Type    \n",
        "-----------------------------------------------------------------\n",
        "0    default        1.0       0.0           1.0          0       \n",
        "1    lj             1.0       1.0           1.0          1       \n",
        "2    soft           1.0       1.0           1.0          2       \n",
        "3    custom-lj      1.0       1.0           1.0          1       \n",
        "Number of types: 4\n",
        "Id   Name           Radius    Diffusion-    Reaction-    Force-  \n",
        "                              Constant      Radius       Type    \n",
        "-----------------------------------------------------------------\n",
        "0    default        1.0       0.0           1.0          0       \n",
        "1    lj             1.0       1.0           1.0          1       \n",
        "2    soft           1.0       1.0           1.0          2       \n",
        "3    custom-lj      1.0       1.0           1.0          1       \n"
       ]
      }
     ],
     "prompt_number": 7
    },
    {
     "cell_type": "markdown",
     "metadata": {},
     "source": [
      "Equilibrate\n",
      "----------"
     ]
    },
    {
     "cell_type": "code",
     "collapsed": false,
     "input": [
      "simulation1.isReversible = False\n",
      "simulation1.maxTime = 20000\n",
      "simulation1.run()\n",
      "simulation2.isReversible = True\n",
      "simulation2.maxTime = 20000\n",
      "simulation2.run()"
     ],
     "language": "python",
     "metadata": {},
     "outputs": [],
     "prompt_number": 8
    },
    {
     "cell_type": "markdown",
     "metadata": {},
     "source": [
      "Irreversible\n",
      "------------"
     ]
    },
    {
     "cell_type": "code",
     "collapsed": false,
     "input": [
      "for i in range(10):\n",
      "    simulation1.isReversible = False\n",
      "    timestamp = time.strftime(\"%Y_%m_%d-%H_%M_%S\")\n",
      "    dirpath = \"LEN\" + str(length) + \"_TAU\" + str(timestep) + \"_irrev/\" + timestamp + \"/\"\n",
      "    os.makedirs(dirpath)\n",
      "    msdname_irrev = dirpath + \"msd.h5\"\n",
      "    accname_irrev = dirpath + \"acc.h5\"\n",
      "    # reset the clock, so acceptance will record from zero on\n",
      "    # IMPORTANT: must be done BEFORE msd is added to simulation\n",
      "    simulation1.cumulativeRuntime = 0. \n",
      "    simulation1.new_MeanSquaredDisplacement(msdname_irrev, 3)\n",
      "    #simulation1.new_Acceptance(1, accname_irrev)\n",
      "    simulation1.acceptions = 0\n",
      "    simulation1.rejections = 0\n",
      "    simulation1.maxTime = length\n",
      "    t1 = time.clock()\n",
      "    simulation1.run()\n",
      "    t2 = time.clock()\n",
      "    simulation1.writeAllObservablesToFile()\n",
      "    simulation1.deleteAllObservables()\n",
      "    print \"Acceptance:\", simulation1.acceptanceRate()\n",
      "    print \"Time:\", t2 - t1, \"s\""
     ],
     "language": "python",
     "metadata": {},
     "outputs": [
      {
       "output_type": "stream",
       "stream": "stdout",
       "text": [
        "Acceptance: 0.0\n",
        "Time: 483.891194 s\n",
        "Acceptance:"
       ]
      },
      {
       "output_type": "stream",
       "stream": "stdout",
       "text": [
        " 0.0\n",
        "Time: 492.632883 s\n",
        "Acceptance:"
       ]
      },
      {
       "output_type": "stream",
       "stream": "stdout",
       "text": [
        " 0.0\n",
        "Time: 495.095504 s\n",
        "Acceptance:"
       ]
      },
      {
       "output_type": "stream",
       "stream": "stdout",
       "text": [
        " 0.0\n",
        "Time: 494.38441 s\n",
        "Acceptance:"
       ]
      },
      {
       "output_type": "stream",
       "stream": "stdout",
       "text": [
        " 0.0\n",
        "Time: 503.113466 s\n",
        "Acceptance:"
       ]
      },
      {
       "output_type": "stream",
       "stream": "stdout",
       "text": [
        " 0.0\n",
        "Time: 509.772452 s\n",
        "Acceptance:"
       ]
      },
      {
       "output_type": "stream",
       "stream": "stdout",
       "text": [
        " 0.0\n",
        "Time: 494.383974 s\n",
        "Acceptance:"
       ]
      },
      {
       "output_type": "stream",
       "stream": "stdout",
       "text": [
        " 0.0\n",
        "Time: 494.968574 s\n",
        "Acceptance:"
       ]
      },
      {
       "output_type": "stream",
       "stream": "stdout",
       "text": [
        " 0.0\n",
        "Time: 511.312283 s\n",
        "Acceptance:"
       ]
      },
      {
       "output_type": "stream",
       "stream": "stdout",
       "text": [
        " 0.0\n",
        "Time: 493.102832 s\n"
       ]
      }
     ],
     "prompt_number": 9
    },
    {
     "cell_type": "markdown",
     "metadata": {},
     "source": [
      "Reversible\n",
      "----------"
     ]
    },
    {
     "cell_type": "code",
     "collapsed": false,
     "input": [
      "for i in range(10):\n",
      "    simulation2.isReversible = True\n",
      "    timestamp = time.strftime(\"%Y_%m_%d-%H_%M_%S\")\n",
      "    dirpath = \"LEN\" + str(length) + \"_TAU\" + str(timestep) + \"_rev/\" + timestamp + \"/\"\n",
      "    os.makedirs(dirpath)\n",
      "    msdname_rev = dirpath + \"msd.h5\"\n",
      "    accname_rev = dirpath + \"acc.h5\"\n",
      "    simulation2.cumulativeRuntime = 0.\n",
      "    simulation2.new_MeanSquaredDisplacement(msdname_rev, 3)\n",
      "    simulation2.new_Acceptance(1, accname_rev)#recPeriod, filename\n",
      "    simulation2.acceptions = 0\n",
      "    simulation2.rejections = 0\n",
      "    simulation2.maxTime = length\n",
      "    t1 = time.clock()\n",
      "    simulation2.run()\n",
      "    t2 = time.clock()\n",
      "    simulation2.writeAllObservablesToFile()\n",
      "    simulation2.deleteAllObservables()\n",
      "    print \"Acceptance:\", simulation2.acceptanceRate()\n",
      "    print \"Time:\", t2 - t1, \"s\""
     ],
     "language": "python",
     "metadata": {},
     "outputs": [
      {
       "output_type": "stream",
       "stream": "stdout",
       "text": [
        "Acceptance: 0.89055\n",
        "Time: 490.558437 s\n",
        "Acceptance:"
       ]
      },
      {
       "output_type": "stream",
       "stream": "stdout",
       "text": [
        " 0.89142\n",
        "Time: 489.803883 s\n",
        "Acceptance:"
       ]
      },
      {
       "output_type": "stream",
       "stream": "stdout",
       "text": [
        " 0.89005\n",
        "Time: 488.637801 s\n",
        "Acceptance:"
       ]
      },
      {
       "output_type": "stream",
       "stream": "stdout",
       "text": [
        " 0.89079\n",
        "Time: 491.354716 s\n",
        "Acceptance:"
       ]
      },
      {
       "output_type": "stream",
       "stream": "stdout",
       "text": [
        " 0.89085\n",
        "Time: 490.007029 s\n",
        "Acceptance:"
       ]
      },
      {
       "output_type": "stream",
       "stream": "stdout",
       "text": [
        " 0.89255\n",
        "Time: 492.930726 s\n",
        "Acceptance:"
       ]
      },
      {
       "output_type": "stream",
       "stream": "stdout",
       "text": [
        " 0.89231\n",
        "Time: 487.092756 s\n",
        "Acceptance:"
       ]
      },
      {
       "output_type": "stream",
       "stream": "stdout",
       "text": [
        " 0.89043\n",
        "Time: 486.305395 s\n",
        "Acceptance:"
       ]
      },
      {
       "output_type": "stream",
       "stream": "stdout",
       "text": [
        " 0.89292\n",
        "Time: 488.778229 s\n",
        "Acceptance:"
       ]
      },
      {
       "output_type": "stream",
       "stream": "stdout",
       "text": [
        " 0.89169\n",
        "Time: 488.106922 s\n"
       ]
      }
     ],
     "prompt_number": 10
    },
    {
     "cell_type": "code",
     "collapsed": false,
     "input": [],
     "language": "python",
     "metadata": {},
     "outputs": []
    }
   ],
   "metadata": {}
  }
 ]
}