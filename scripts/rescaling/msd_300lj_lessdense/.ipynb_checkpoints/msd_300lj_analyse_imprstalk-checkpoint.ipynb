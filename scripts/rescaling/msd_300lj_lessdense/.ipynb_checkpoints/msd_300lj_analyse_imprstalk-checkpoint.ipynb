{
 "metadata": {
  "name": "",
  "signature": "sha256:dc1bbedf3e961ede8221ddbe09de0cdef3e407e25260aeb0432db2dc055fb5d2"
 },
 "nbformat": 3,
 "nbformat_minor": 0,
 "worksheets": [
  {
   "cells": [
    {
     "cell_type": "code",
     "collapsed": false,
     "input": [
      "#%matplotlib inline\n",
      "#%matplotlib qt\n",
      "import numpy as np\n",
      "from matplotlib import rc\n",
      "rc('font', **{'family': 'serif', 'serif': ['Computer Modern'], 'size': 15})\n",
      "rc('text', usetex=True)\n",
      "import matplotlib.pyplot as plt\n",
      "import pylab\n",
      "pylab.rcParams['figure.figsize'] = (12.0, 6.0)\n",
      "import time\n",
      "import os\n",
      "import h5py"
     ],
     "language": "python",
     "metadata": {},
     "outputs": [],
     "prompt_number": 1
    },
    {
     "cell_type": "code",
     "collapsed": false,
     "input": [
      "# copied from http://tonysyu.github.io/plotting-error-bars.html#.VT95auRCJ0w\n",
      "def errorfill(x, y, yerr, color=None, alpha_fill=0.3, ax=None):\n",
      "    ax = ax if ax is not None else plt.gca()\n",
      "    if color is None:\n",
      "        color = ax._get_lines.color_cycle.next()\n",
      "    if np.isscalar(yerr) or len(yerr) == len(y):\n",
      "        ymin = y - yerr\n",
      "        ymax = y + yerr\n",
      "    elif len(yerr) == 2:\n",
      "        ymin, ymax = yerr\n",
      "    ax.plot(x, y, color=color)\n",
      "    ax.fill_between(x, ymax, ymin, color=color, alpha=alpha_fill)"
     ],
     "language": "python",
     "metadata": {},
     "outputs": [],
     "prompt_number": 2
    },
    {
     "cell_type": "markdown",
     "metadata": {},
     "source": [
      "### Choose length and timestep"
     ]
    },
    {
     "cell_type": "code",
     "collapsed": false,
     "input": [
      "length = 20000\n",
      "timestep = 1e-5"
     ],
     "language": "python",
     "metadata": {},
     "outputs": [],
     "prompt_number": 2
    },
    {
     "cell_type": "markdown",
     "metadata": {},
     "source": [
      "### Load MSD data IRREV and average"
     ]
    },
    {
     "cell_type": "code",
     "collapsed": false,
     "input": [
      "# find all subfolders in the following directories and load their msds\n",
      "dirpath = \"LEN\" + str(length) + \"_TAU\" + str(timestep) + \"_irrev/\"\n",
      "allMsds = []\n",
      "root = os.getcwd()\n",
      "workingDir = os.path.join(root, dirpath)\n",
      "for directory in os.listdir(workingDir):\n",
      "    msdPath = os.path.join(directory, \"msd.h5\")\n",
      "    msdPath = os.path.join(workingDir, msdPath)\n",
      "    msdFile = h5py.File(msdPath, \"r\")\n",
      "    allMsds += [ [ \n",
      "            msdFile[\"time\"][()],\n",
      "            msdFile[\"meanSquaredDisplacement\"][()],\n",
      "            msdFile[\"standardError\"][()] * msdFile[\"standardError\"][()] # varianceOfMean**2\n",
      "    ] ]\n",
      "    msdFile.close()\n",
      "\n",
      "# average MSDs\n",
      "allMsds = np.array(allMsds)\n",
      "numberOfSets = len(allMsds)\n",
      "msd_irrev = np.sum(allMsds, axis=0)\n",
      "msd_irrev = msd_irrev/numberOfSets\n",
      "msd_irrev[2] /= numberOfSets\n",
      "msd_irrev[2] = np.sqrt(msd_irrev[2])\n",
      "print \"numberOfSets\", numberOfSets"
     ],
     "language": "python",
     "metadata": {},
     "outputs": [
      {
       "output_type": "stream",
       "stream": "stdout",
       "text": [
        "numberOfSets 100\n"
       ]
      }
     ],
     "prompt_number": 3
    },
    {
     "cell_type": "markdown",
     "metadata": {},
     "source": [
      "### Load MSD data REV and average"
     ]
    },
    {
     "cell_type": "code",
     "collapsed": false,
     "input": [
      "# find all subfolders in the following directories and load their msds and acceptances\n",
      "dirpath = \"LEN\" + str(length) + \"_TAU\" + str(timestep) + \"_rev/\"\n",
      "allMsds = []\n",
      "allAccs = []\n",
      "root = os.getcwd()\n",
      "workingDir = os.path.join(root, dirpath)\n",
      "for directory in os.listdir(workingDir):\n",
      "    msdPath = os.path.join(directory, \"msd.h5\")\n",
      "    msdPath = os.path.join(workingDir, msdPath)\n",
      "    msdFile = h5py.File(msdPath, \"r\")\n",
      "    allMsds += [ [ \n",
      "            msdFile[\"time\"][()],\n",
      "            msdFile[\"meanSquaredDisplacement\"][()],\n",
      "            msdFile[\"standardError\"][()] * msdFile[\"standardError\"][()] \n",
      "    ] ]\n",
      "    msdFile.close()\n",
      "    accPath = os.path.join(directory, \"acc.h5\")\n",
      "    accPath = os.path.join(workingDir, accPath)\n",
      "    accFile = h5py.File(accPath, \"r\")\n",
      "    allAccs += [\n",
      "        [ accFile[\"time\"][()], accFile[\"acceptanceProb\"][()] ]\n",
      "    ]\n",
      "    accFile.close()\n",
      "\n",
      "# average MSDs\n",
      "allMsds = np.array(allMsds)\n",
      "numberOfSets = len(allMsds)\n",
      "msd_rev = np.sum(allMsds, axis=0)\n",
      "msd_rev /= numberOfSets\n",
      "msd_rev[2] /= numberOfSets # to get standard error, divide once more\n",
      "msd_rev[2] = np.sqrt(msd_rev[2])\n",
      "\n",
      "# average acceptances\n",
      "allAccs = np.array(allAccs)\n",
      "allAccs.shape\n",
      "acc_rev = np.sum(allAccs, axis=0)\n",
      "acc_rev /= numberOfSets\n",
      "\n",
      "acceptanceRate = np.sum(acc_rev[1]) / length\n",
      "\n",
      "print \"numberOfSets\", numberOfSets"
     ],
     "language": "python",
     "metadata": {},
     "outputs": [
      {
       "output_type": "stream",
       "stream": "stdout",
       "text": [
        "numberOfSets 100\n"
       ]
      }
     ],
     "prompt_number": 4
    },
    {
     "cell_type": "markdown",
     "metadata": {},
     "source": [
      "### Plot raw data"
     ]
    },
    {
     "cell_type": "code",
     "collapsed": false,
     "input": [
      "#%matplotlib qt\n",
      "fro   = 0\n",
      "to    = -1#len(msd_rev[0])/2\n",
      "every = 10\n",
      "#print msd_rev\n",
      "plt.errorbar(\n",
      "    msd_rev[0][fro:to:every],\n",
      "    msd_rev[1][fro:to:every],\n",
      "    yerr=msd_rev[2][fro:to:every],\n",
      "    fmt=\".\",\n",
      "    color=\"blue\",\n",
      "    label=\"reversible\")\n",
      "plt.errorbar(\n",
      "    msd_irrev[0][fro:to:every],\n",
      "    msd_irrev[1][fro:to:every],\n",
      "    yerr=msd_irrev[2][fro:to:every],\n",
      "    fmt=\".\",\n",
      "    color=\"red\",\n",
      "    label=\"irreversible\")\n",
      "plt.xlabel(\"time\")\n",
      "plt.ylabel(\"mean squared displacement\")\n",
      "plt.grid(b=1)\n",
      "plt.legend(loc=\"lower right\")\n",
      "#plt.xscale(\"log\")\n",
      "#plt.yscale(\"log\")\n",
      "plt.show()"
     ],
     "language": "python",
     "metadata": {},
     "outputs": [],
     "prompt_number": 5
    },
    {
     "cell_type": "markdown",
     "metadata": {},
     "source": [
      "### Prepare the data, determine subsets of ballistic/bulk regime"
     ]
    },
    {
     "cell_type": "code",
     "collapsed": false,
     "input": [
      "import scipy.optimize as so\n",
      "# abbreviation for plotting functions in certain range\n",
      "def plot(f, xRange,*args, **kwargs):\n",
      "    yRange = map(f,xRange)\n",
      "    plt.plot(xRange,yRange, *args, **kwargs)\n",
      "\n",
      "transition = 0.0002 # define the time until ballistic slope is determined\n",
      "bulkLag = 1 # the lag time to resolve the bulk msd. larger value -> smaller arrays\n",
      "names = {\"irreversible\" : \"irreversible\", \"reversible\" : \"reversible\"}\n",
      "colors = { \"irreversible\" : \"brown\", \"reversible\" : \"turquoise\"}\n",
      "index  = {\n",
      "    \"irreversible\" : int(transition / timestep),\n",
      "    \"reversible\" : int(transition / timestep / acceptanceRate)\n",
      "}\n",
      "print index\n",
      "half_rev = len(msd_rev[0]) / 2\n",
      "half_irrev = int( float(half_rev) * acceptanceRate )\n",
      "end_irrev = int(msd_rev[0][-1]*acceptanceRate / timestep)\n",
      "print \"half_irrev\", half_irrev, \"half_rev\", half_rev\n",
      "\n",
      "# ballistic data irreversible -> ballistic[\"irreversible\"]\n",
      "# ballistic data reversible -> ballistic[\"reversible\"]\n",
      "ballistic  = {\n",
      "    \"irreversible\" :  [\n",
      "        msd_irrev[0][0:index[\"irreversible\"]],\n",
      "        msd_irrev[1][0:index[\"irreversible\"]],\n",
      "        msd_irrev[2][0:index[\"irreversible\"]]\n",
      "     ],\n",
      "    \"reversible\" : [\n",
      "        msd_rev[0][0:index[\"reversible\"]],\n",
      "        msd_rev[1][0:index[\"reversible\"]],\n",
      "        msd_rev[2][0:index[\"reversible\"]]\n",
      "    ]\n",
      "}\n",
      "# bulk data irreversible -> bulk[\"irreversible\"]\n",
      "# bulk data reversible -> bulk[\"reversible\"]\n",
      "bulk  = { \n",
      "    \"irreversible\" : [\n",
      "        msd_irrev[0][half_irrev:end_irrev:bulkLag],\n",
      "        msd_irrev[1][half_irrev:end_irrev:bulkLag],\n",
      "        msd_irrev[2][half_irrev:end_irrev:bulkLag]\n",
      "    ],\n",
      "    \"reversible\" : [\n",
      "        msd_rev[0][half_rev:-1:bulkLag],\n",
      "        msd_rev[1][half_rev:-1:bulkLag],\n",
      "        msd_rev[2][half_rev:-1:bulkLag]\n",
      "    ]\n",
      "}\n",
      "\n",
      "nonfitted = {\n",
      "    \"irreversible\" : [\n",
      "        msd_irrev[0][index[\"irreversible\"]:half_irrev],\n",
      "        msd_irrev[1][index[\"irreversible\"]:half_irrev],\n",
      "        msd_irrev[2][index[\"irreversible\"]:half_irrev]\n",
      "    ],\n",
      "    \"irreversible2\" : [\n",
      "        msd_irrev[0][end_irrev:-1],\n",
      "        msd_irrev[1][end_irrev:-1],\n",
      "        msd_irrev[2][end_irrev:-1]\n",
      "    ],\n",
      "    \"reversible\" : [\n",
      "        msd_rev[0][index[\"reversible\"]:half_rev],\n",
      "        msd_rev[1][index[\"reversible\"]:half_rev],\n",
      "        msd_rev[2][index[\"reversible\"]:half_rev]\n",
      "    ]\n",
      "}"
     ],
     "language": "python",
     "metadata": {},
     "outputs": [
      {
       "output_type": "stream",
       "stream": "stdout",
       "text": [
        "{'reversible': 28, 'irreversible': 20}\n",
        "half_irrev 6930 half_rev 10000\n"
       ]
      }
     ],
     "prompt_number": 6
    },
    {
     "cell_type": "markdown",
     "metadata": {},
     "source": [
      "### Plot data, marked as fitted areas"
     ]
    },
    {
     "cell_type": "code",
     "collapsed": false,
     "input": [
      "#%matplotlib qt\n",
      "fmt = \".\"\n",
      "every = 1\n",
      "\n",
      "# BALLISTIC\n",
      "plt.plot(\n",
      "    ballistic[\"irreversible\"][0][::every],\n",
      "    ballistic[\"irreversible\"][1][::every],\n",
      "    #yerr=ballistic[\"irreversible\"][2][::every],\n",
      "    fmt,\n",
      "    color=\"red\")\n",
      "plt.plot(\n",
      "    ballistic[\"reversible\"][0][::every],\n",
      "    ballistic[\"reversible\"][1][::every],\n",
      "    #yerr=ballistic[\"reversible\"][2][::every],\n",
      "    fmt,\n",
      "    color=\"blue\")\n",
      "\n",
      "# NONFITTED\n",
      "every = 10\n",
      "plt.plot(\n",
      "    nonfitted[\"irreversible\"][0][::every],\n",
      "    nonfitted[\"irreversible\"][1][::every],\n",
      "    #yerr=nonfitted[\"irreversible\"][2][::every],\n",
      "    fmt,\n",
      "    color=\"lightcoral\", alpha=0.5)\n",
      "plt.plot(\n",
      "    nonfitted[\"reversible\"][0][::every],\n",
      "    nonfitted[\"reversible\"][1][::every],\n",
      "    #yerr=nonfitted[\"reversible\"][2][::every],\n",
      "    fmt,\n",
      "    color=\"lightskyblue\", alpha=0.5)\n",
      "\n",
      "# BULK AND REST OF NONFITTED\n",
      "every = 50\n",
      "plt.plot(\n",
      "    bulk[\"irreversible\"][0][::every],\n",
      "    bulk[\"irreversible\"][1][::every],\n",
      "    #yerr=bulk[\"irreversible\"][2][::every],\n",
      "    fmt,\n",
      "    color=\"red\")\n",
      "plt.plot(\n",
      "    bulk[\"reversible\"][0][::every],\n",
      "    bulk[\"reversible\"][1][::every],\n",
      "    #yerr=bulk[\"reversible\"][2][::every],\n",
      "    fmt,\n",
      "    color=\"blue\")\n",
      "plt.plot(\n",
      "    nonfitted[\"irreversible2\"][0][::every],\n",
      "    nonfitted[\"irreversible2\"][1][::every],\n",
      "    #yerr=nonfitted[\"irreversible2\"][2][::every],\n",
      "    fmt,\n",
      "    color=\"lightcoral\", alpha=0.5)"
     ],
     "language": "python",
     "metadata": {},
     "outputs": [
      {
       "metadata": {},
       "output_type": "pyout",
       "prompt_number": 19,
       "text": [
        "<Container object of 3 artists>"
       ]
      }
     ],
     "prompt_number": 19
    },
    {
     "cell_type": "markdown",
     "metadata": {},
     "source": [
      "### Linear regression in ballistic regime"
     ]
    },
    {
     "cell_type": "code",
     "collapsed": false,
     "input": [
      "ballisticCoeffs, ballisticFunction, \\\n",
      "ballisticSlopes, ballisticSlopesErr, \\\n",
      " = dict(), dict(), dict(), dict()\n",
      "\n",
      "for i in [\"irreversible\", \"reversible\"]:\n",
      "    def linearOne(x, a): return a*x\n",
      "    if (ballistic[i][2][0] == 0.):\n",
      "        print \"no errors considered in linear regression of ballistic\", names[i]\n",
      "        ballisticCoeffs[i] = so.curve_fit(linearOne, ballistic[i][0], ballistic[i][1])\n",
      "    else:\n",
      "        ballisticCoeffs[i] = so.curve_fit(linearOne, ballistic[i][0], ballistic[i][1], sigma=ballistic[i][2])\n",
      "    ballisticSlopes[i] = ballisticCoeffs[i][0][0]\n",
      "    ballisticSlopesErr[i] = np.sqrt( ballisticCoeffs[i][1][0][0] )\n",
      "    ballisticFunction[i] = lambda x: linearOne(x, ballisticSlopes[i])\n",
      "    plot(\n",
      "        ballisticFunction[i],\n",
      "        np.arange(0., msd_rev[0][-1] + msd_rev[0][-1] / 1000., msd_rev[0][-1] / 1000.),\n",
      "        \"--\",\n",
      "        color=colors[i] )\n",
      "    plot(\n",
      "        ballisticFunction[i],\n",
      "        np.arange(0., msd_rev[0][-1] / 1000., msd_rev[0][-1] / 1000000.),\n",
      "        \"--\",\n",
      "        color=colors[i] )\n",
      "    \n",
      "print \"ballisticSlopes\", ballisticSlopes\n",
      "print \"ballisticSlopesErr\", ballisticSlopesErr"
     ],
     "language": "python",
     "metadata": {},
     "outputs": [
      {
       "output_type": "stream",
       "stream": "stdout",
       "text": [
        "no errors considered in linear regression of ballistic irreversible\n",
        "no errors considered in linear regression of ballistic reversible\n",
        "ballisticSlopes {'reversible': 4.1870953004578082, 'irreversible': 5.9339681475139257}\n",
        "ballisticSlopesErr {'reversible': 0.0056670342473908678, 'irreversible': 0.0035927600463491359}\n"
       ]
      }
     ],
     "prompt_number": 20
    },
    {
     "cell_type": "markdown",
     "metadata": {},
     "source": [
      "### Power law fit in bulk regime"
     ]
    },
    {
     "cell_type": "code",
     "collapsed": false,
     "input": [
      "bulkCoeffs, bulkFunction,\\\n",
      "bulkFactor, bulkFactorErr,\\\n",
      "bulkExponent, bulkExponentErr \\\n",
      " = dict(), dict(), dict(), dict(), dict(), dict()\n",
      "\n",
      "i = \"irreversible\"\n",
      "def powerLawTwo(x, a, b): return a*np.power(x, b)\n",
      "bulkCoeffs[i]      = so.curve_fit(powerLawTwo, bulk[i][0], bulk[i][1], sigma=bulk[i][2])\n",
      "bulkFactor[i]      = bulkCoeffs[i][0][0]\n",
      "bulkFactorErr[i]   = np.sqrt(bulkCoeffs[i][1][0,0])\n",
      "bulkExponent[i]    = bulkCoeffs[i][0][1]\n",
      "bulkExponentErr[i] = np.sqrt(bulkCoeffs[i][1][1,1])\n",
      "bulkFunction[i] = lambda x: powerLawTwo(x, bulkFactor[i], bulkExponent[i])\n",
      "\n",
      "i = \"reversible\"\n",
      "def powerLawOne(x, a): return a*np.power(x, bulkExponent[\"irreversible\"])\n",
      "bulkCoeffs[i]      = so.curve_fit(powerLawOne, bulk[i][0], bulk[i][1], sigma=bulk[i][2])\n",
      "bulkFactor[i]      = bulkCoeffs[i][0][0]\n",
      "bulkFactorErr[i]   = np.sqrt(bulkCoeffs[i][1][0])\n",
      "bulkExponent[i]    = bulkExponent[\"irreversible\"]\n",
      "bulkExponentErr[i] = bulkExponentErr[\"irreversible\"]\n",
      "bulkFunction[i] = lambda x: powerLawOne(x, bulkFactor[i])\n",
      "\n",
      "xRange = np.logspace(-7., 0.)\n",
      "[ plot(bulkFunction[i], xRange, \"-\", color=colors[i]) for i in [\"irreversible\",\"reversible\"]]\n",
      "print \"bulkFactor\", bulkFactor\n",
      "print \"bulkFactorErr\", bulkFactorErr\n",
      "print \"bulkExponent\", bulkExponent\n",
      "print \"bulkExponentErr\", bulkExponentErr"
     ],
     "language": "python",
     "metadata": {},
     "outputs": [
      {
       "output_type": "stream",
       "stream": "stdout",
       "text": [
        "bulkFactor {'reversible': 1.1133028539795762, 'irreversible': 1.4595593805274683}\n",
        "bulkFactorErr {'reversible': array([  1.90420817e-05]), 'irreversible': 0.00035530831543152403}\n",
        "bulkExponent {'reversible': 0.72667523121965982, 'irreversible': 0.72667523121965982}\n",
        "bulkExponentErr {'reversible': 0.00010613695859191414, 'irreversible': 0.00010613695859191414}\n"
       ]
      }
     ],
     "prompt_number": 21
    },
    {
     "cell_type": "markdown",
     "metadata": {},
     "source": [
      "### Show"
     ]
    },
    {
     "cell_type": "code",
     "collapsed": false,
     "input": [
      "print \"bulkFactor\", bulkFactor\n",
      "print \"bulkExponent\", bulkExponent\n",
      "print \"acceptance\", acceptanceRate\n",
      "print \"ballisticSlope_rev / ballisticSlope_irrev\", ballisticSlopes[\"reversible\"] / ballisticSlopes[\"irreversible\"]\n",
      "print \"bulkSlope_rev / bulkSlope_irrev\", bulkFactor[\"reversible\"] / bulkFactor[\"irreversible\"]\n",
      "if (True):\n",
      "    plt.xscale(\"log\")\n",
      "    plt.yscale(\"log\")\n",
      "    plt.xlim((1e-5,2e-1))\n",
      "    plt.ylim((1e-5,1.))\n",
      "else:\n",
      "    #plt.xlim((0.,2e-1))\n",
      "    #plt.ylim((0.,0.25))\n",
      "    pass\n",
      "plt.tight_layout(pad=1.01)\n",
      "plt.grid(b=1)\n",
      "plt.show()\n"
     ],
     "language": "python",
     "metadata": {},
     "outputs": [
      {
       "output_type": "stream",
       "stream": "stdout",
       "text": [
        "bulkFactor {'reversible': 1.1133028539795762, 'irreversible': 1.4595593805274683}\n",
        "bulkExponent {'reversible': 0.72667523121965982, 'irreversible': 0.72667523121965982}\n",
        "acceptance 0.693024416365\n",
        "ballisticSlope_rev / ballisticSlope_irrev 0.705614724645\n",
        "bulkSlope_rev / bulkSlope_irrev 0.7627663998\n"
       ]
      }
     ],
     "prompt_number": 22
    },
    {
     "cell_type": "code",
     "collapsed": false,
     "input": [],
     "language": "python",
     "metadata": {},
     "outputs": []
    }
   ],
   "metadata": {}
  }
 ]
}