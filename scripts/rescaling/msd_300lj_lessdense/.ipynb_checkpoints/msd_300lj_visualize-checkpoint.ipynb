{
 "metadata": {
  "name": "",
  "signature": "sha256:98eead20f4c02ce8516e3c3366cf0c9878542ced2388c98f7f1987a993414358"
 },
 "nbformat": 3,
 "nbformat_minor": 0,
 "worksheets": [
  {
   "cells": [
    {
     "cell_type": "code",
     "collapsed": false,
     "input": [
      "#%matplotlib inline\n",
      "#%matplotlib qt\n",
      "import numpy as np\n",
      "from matplotlib import rc\n",
      "rc('font', **{'family': 'serif', 'serif': ['Computer Modern'], 'size': 15})\n",
      "rc('text', usetex=True)\n",
      "import matplotlib.pyplot as plt\n",
      "import pylab\n",
      "pylab.rcParams['figure.figsize'] = (12.0, 6.0)\n",
      "import revreaddy.sim as sim\n",
      "import revreaddy.utils as utils\n",
      "import time\n",
      "import os"
     ],
     "language": "python",
     "metadata": {},
     "outputs": [],
     "prompt_number": 1
    },
    {
     "cell_type": "code",
     "collapsed": false,
     "input": [
      "boxsize           = 13.\n",
      "temperature       = 1.\n",
      "particleType      = \"lj\"\n",
      "radius            = 1.\n",
      "diffusionConstant = 1.\n",
      "numberOfParticles = 300\n",
      "\n",
      "# determine filename for the desired system\n",
      "filedir  = \"../../saves/\" \n",
      "filename = filedir + \"equ_\" \\\n",
      "        + \"N\"  + str(numberOfParticles) \\\n",
      "        + \"B\"  + str(boxsize) \\\n",
      "        + \"TE\" + str(temperature) \\\n",
      "        + \"TY\" + str(particleType) \\\n",
      "        + \"R\"  + str(radius) \\\n",
      "        + \"D\"  + str(diffusionConstant) \\\n",
      "        + \".hdf5\"\n",
      "\n",
      "simulation1 = utils.loadSimulation(filename)\n",
      "simulation2 = utils.loadSimulation(filename)\n",
      "\n",
      "print \"Number of particles 1:\", simulation1.getParticleNumber()\n",
      "packingDensity  = float(simulation1.getParticleNumber()) * 4. * np.pi * radius**3.\n",
      "packingDensity /= 3. * simulation1.boxsize**3.\n",
      "print \"packing density 1:\", packingDensity"
     ],
     "language": "python",
     "metadata": {},
     "outputs": [
      {
       "output_type": "stream",
       "stream": "stdout",
       "text": [
        "Number of particles 1: 300\n",
        "packing density 1: 0.571978635155\n"
       ]
      }
     ],
     "prompt_number": 2
    },
    {
     "cell_type": "code",
     "collapsed": false,
     "input": [
      "length = 20000\n",
      "timestep = 1e-5\n",
      "simulation1.showTypes()\n",
      "simulation2.showTypes()\n",
      "simulation1.timestep = timestep\n",
      "simulation2.timestep = timestep"
     ],
     "language": "python",
     "metadata": {},
     "outputs": [
      {
       "output_type": "stream",
       "stream": "stdout",
       "text": [
        "Number of types: 4\n",
        "Id   Name           Radius    Diffusion-    Reaction-    Force-  \n",
        "                              Constant      Radius       Type    \n",
        "-----------------------------------------------------------------\n",
        "0    default        1.0       0.0           1.0          0       \n",
        "1    lj             1.0       1.0           1.0          1       \n",
        "2    soft           1.0       1.0           1.0          2       \n",
        "3    custom-lj      1.0       1.0           1.0          1       \n",
        "Number of types: 4\n",
        "Id   Name           Radius    Diffusion-    Reaction-    Force-  \n",
        "                              Constant      Radius       Type    \n",
        "-----------------------------------------------------------------\n",
        "0    default        1.0       0.0           1.0          0       \n",
        "1    lj             1.0       1.0           1.0          1       \n",
        "2    soft           1.0       1.0           1.0          2       \n",
        "3    custom-lj      1.0       1.0           1.0          1       \n"
       ]
      }
     ],
     "prompt_number": 4
    },
    {
     "cell_type": "markdown",
     "metadata": {},
     "source": [
      "Equilibrate\n",
      "----------"
     ]
    },
    {
     "cell_type": "code",
     "collapsed": false,
     "input": [
      "simulation1.isReversible = False\n",
      "simulation1.maxTime = length\n",
      "simulation1.run()\n",
      "simulation2.isReversible = True\n",
      "simulation2.maxTime = length\n",
      "simulation2.run()"
     ],
     "language": "python",
     "metadata": {},
     "outputs": [],
     "prompt_number": 4
    },
    {
     "cell_type": "markdown",
     "metadata": {},
     "source": [
      "Irreversible\n",
      "------------"
     ]
    },
    {
     "cell_type": "code",
     "collapsed": false,
     "input": [
      "for i in range(20):\n",
      "    # equilibration\n",
      "    simulation1.isReversible = False\n",
      "    simulation1.maxTime = length\n",
      "    simulation1.run()\n",
      "    \n",
      "    # record\n",
      "    simulation1.isReversible = False\n",
      "    timestamp = time.strftime(\"%Y_%m_%d-%H_%M_%S\")\n",
      "    dirpath = \"LEN\" + str(length) + \"_TAU\" + str(timestep) + \"_irrev/\" + timestamp + \"/\"\n",
      "    os.makedirs(dirpath)\n",
      "    msdname_irrev = dirpath + \"msd.h5\"\n",
      "    accname_irrev = dirpath + \"acc.h5\"\n",
      "    # reset the clock, so acceptance will record from zero on\n",
      "    # IMPORTANT: must be done BEFORE msd is added to simulation\n",
      "    simulation1.cumulativeRuntime = 0. \n",
      "    simulation1.new_MeanSquaredDisplacement(msdname_irrev, 3)\n",
      "    #simulation1.new_Acceptance(1, accname_irrev)\n",
      "    simulation1.acceptions = 0\n",
      "    simulation1.rejections = 0\n",
      "    simulation1.maxTime = length\n",
      "    t1 = time.clock()\n",
      "    simulation1.run()\n",
      "    t2 = time.clock()\n",
      "    simulation1.writeAllObservablesToFile()\n",
      "    simulation1.deleteAllObservables()\n",
      "    print \"Acceptance:\", simulation1.acceptanceRate()\n",
      "    print \"Time:\", t2 - t1, \"s\""
     ],
     "language": "python",
     "metadata": {},
     "outputs": [
      {
       "output_type": "stream",
       "stream": "stdout",
       "text": [
        "Acceptance: 0.0\n",
        "Time: 23.972627 s\n",
        "Acceptance:"
       ]
      },
      {
       "output_type": "stream",
       "stream": "stdout",
       "text": [
        " 0.0\n",
        "Time: 23.427422 s\n",
        "Acceptance:"
       ]
      },
      {
       "output_type": "stream",
       "stream": "stdout",
       "text": [
        " 0.0\n",
        "Time: 23.668587 s\n",
        "Acceptance:"
       ]
      },
      {
       "output_type": "stream",
       "stream": "stdout",
       "text": [
        " 0.0\n",
        "Time: 23.884683 s\n",
        "Acceptance:"
       ]
      },
      {
       "output_type": "stream",
       "stream": "stdout",
       "text": [
        " 0.0\n",
        "Time: 24.119403 s\n",
        "Acceptance:"
       ]
      },
      {
       "output_type": "stream",
       "stream": "stdout",
       "text": [
        " 0.0\n",
        "Time: 23.777696 s\n",
        "Acceptance:"
       ]
      },
      {
       "output_type": "stream",
       "stream": "stdout",
       "text": [
        " 0.0\n",
        "Time: 23.925313 s\n",
        "Acceptance:"
       ]
      },
      {
       "output_type": "stream",
       "stream": "stdout",
       "text": [
        " 0.0\n",
        "Time: 23.485728 s\n",
        "Acceptance:"
       ]
      },
      {
       "output_type": "stream",
       "stream": "stdout",
       "text": [
        " 0.0\n",
        "Time: 23.331364 s\n",
        "Acceptance:"
       ]
      },
      {
       "output_type": "stream",
       "stream": "stdout",
       "text": [
        " 0.0\n",
        "Time: 23.506543 s\n",
        "Acceptance:"
       ]
      },
      {
       "output_type": "stream",
       "stream": "stdout",
       "text": [
        " 0.0\n",
        "Time: 23.470473 s\n",
        "Acceptance:"
       ]
      },
      {
       "output_type": "stream",
       "stream": "stdout",
       "text": [
        " 0.0\n",
        "Time: 23.605819 s\n",
        "Acceptance:"
       ]
      },
      {
       "output_type": "stream",
       "stream": "stdout",
       "text": [
        " 0.0\n",
        "Time: 23.540429 s\n",
        "Acceptance:"
       ]
      },
      {
       "output_type": "stream",
       "stream": "stdout",
       "text": [
        " 0.0\n",
        "Time: 24.774783 s\n",
        "Acceptance:"
       ]
      },
      {
       "output_type": "stream",
       "stream": "stdout",
       "text": [
        " 0.0\n",
        "Time: 22.824013 s\n",
        "Acceptance:"
       ]
      },
      {
       "output_type": "stream",
       "stream": "stdout",
       "text": [
        " 0.0\n",
        "Time: 22.710314 s\n",
        "Acceptance:"
       ]
      },
      {
       "output_type": "stream",
       "stream": "stdout",
       "text": [
        " 0.0\n",
        "Time: 22.752937 s\n",
        "Acceptance:"
       ]
      },
      {
       "output_type": "stream",
       "stream": "stdout",
       "text": [
        " 0.0\n",
        "Time: 22.811958 s\n",
        "Acceptance:"
       ]
      },
      {
       "output_type": "stream",
       "stream": "stdout",
       "text": [
        " 0.0\n",
        "Time: 22.841762 s\n",
        "Acceptance:"
       ]
      },
      {
       "output_type": "stream",
       "stream": "stdout",
       "text": [
        " 0.0\n",
        "Time: 22.822003 s\n"
       ]
      }
     ],
     "prompt_number": 11
    },
    {
     "cell_type": "markdown",
     "metadata": {},
     "source": [
      "Reversible\n",
      "----------"
     ]
    },
    {
     "cell_type": "code",
     "collapsed": false,
     "input": [
      "for i in range(20):\n",
      "    # equilibration\n",
      "    simulation2.isReversible = True\n",
      "    simulation2.maxTime = length\n",
      "    simulation2.run()\n",
      "\n",
      "    # record\n",
      "    simulation2.isReversible = True\n",
      "    timestamp = time.strftime(\"%Y_%m_%d-%H_%M_%S\")\n",
      "    dirpath = \"LEN\" + str(length) + \"_TAU\" + str(timestep) + \"_rev/\" + timestamp + \"/\"\n",
      "    os.makedirs(dirpath)\n",
      "    msdname_rev = dirpath + \"msd.h5\"\n",
      "    accname_rev = dirpath + \"acc.h5\"\n",
      "    simulation2.cumulativeRuntime = 0.\n",
      "    simulation2.new_MeanSquaredDisplacement(msdname_rev, 3)\n",
      "    simulation2.new_Acceptance(1, accname_rev)#recPeriod, filename\n",
      "    simulation2.acceptions = 0\n",
      "    simulation2.rejections = 0\n",
      "    simulation2.maxTime = length\n",
      "    t1 = time.clock()\n",
      "    simulation2.run()\n",
      "    t2 = time.clock()\n",
      "    simulation2.writeAllObservablesToFile()\n",
      "    simulation2.deleteAllObservables()\n",
      "    print \"Acceptance:\", simulation2.acceptanceRate()\n",
      "    print \"Time:\", t2 - t1, \"s\""
     ],
     "language": "python",
     "metadata": {},
     "outputs": [
      {
       "output_type": "stream",
       "stream": "stdout",
       "text": [
        "Acceptance: 0.69247\n",
        "Time: 23.085721 s\n",
        "Acceptance:"
       ]
      },
      {
       "output_type": "stream",
       "stream": "stdout",
       "text": [
        " 0.69207\n",
        "Time: 23.10828 s\n",
        "Acceptance:"
       ]
      },
      {
       "output_type": "stream",
       "stream": "stdout",
       "text": [
        " 0.69297\n",
        "Time: 23.202285 s\n",
        "Acceptance:"
       ]
      },
      {
       "output_type": "stream",
       "stream": "stdout",
       "text": [
        " 0.69987\n",
        "Time: 22.72589 s\n",
        "Acceptance:"
       ]
      },
      {
       "output_type": "stream",
       "stream": "stdout",
       "text": [
        " 0.67297\n",
        "Time: 22.681279 s\n",
        "Acceptance:"
       ]
      },
      {
       "output_type": "stream",
       "stream": "stdout",
       "text": [
        " 0.69497\n",
        "Time: 22.682795 s\n",
        "Acceptance:"
       ]
      },
      {
       "output_type": "stream",
       "stream": "stdout",
       "text": [
        " 0.68957\n",
        "Time: 22.597988 s\n",
        "Acceptance:"
       ]
      },
      {
       "output_type": "stream",
       "stream": "stdout",
       "text": [
        " 0.69967\n",
        "Time: 22.743941 s\n",
        "Acceptance:"
       ]
      },
      {
       "output_type": "stream",
       "stream": "stdout",
       "text": [
        " 0.69997\n",
        "Time: 22.701225 s\n",
        "Acceptance:"
       ]
      },
      {
       "output_type": "stream",
       "stream": "stdout",
       "text": [
        " 0.69747\n",
        "Time: 22.73465 s\n",
        "Acceptance:"
       ]
      },
      {
       "output_type": "stream",
       "stream": "stdout",
       "text": [
        " 0.69777\n",
        "Time: 23.191146 s\n",
        "Acceptance:"
       ]
      },
      {
       "output_type": "stream",
       "stream": "stdout",
       "text": [
        " 0.68237\n",
        "Time: 23.249054 s\n",
        "Acceptance:"
       ]
      },
      {
       "output_type": "stream",
       "stream": "stdout",
       "text": [
        " 0.69307\n",
        "Time: 22.911735 s\n",
        "Acceptance:"
       ]
      },
      {
       "output_type": "stream",
       "stream": "stdout",
       "text": [
        " 0.69977\n",
        "Time: 22.706506 s\n",
        "Acceptance:"
       ]
      },
      {
       "output_type": "stream",
       "stream": "stdout",
       "text": [
        " 0.68947\n",
        "Time: 22.798019 s\n",
        "Acceptance:"
       ]
      },
      {
       "output_type": "stream",
       "stream": "stdout",
       "text": [
        " 0.69387\n",
        "Time: 22.733101 s\n",
        "Acceptance:"
       ]
      },
      {
       "output_type": "stream",
       "stream": "stdout",
       "text": [
        " 0.70297\n",
        "Time: 22.780617 s\n",
        "Acceptance:"
       ]
      },
      {
       "output_type": "stream",
       "stream": "stdout",
       "text": [
        " 0.68197\n",
        "Time: 22.758948 s\n",
        "Acceptance:"
       ]
      },
      {
       "output_type": "stream",
       "stream": "stdout",
       "text": [
        " 0.71117\n",
        "Time: 22.758538 s\n",
        "Acceptance:"
       ]
      },
      {
       "output_type": "stream",
       "stream": "stdout",
       "text": [
        " 0.70677\n",
        "Time: 22.767425 s\n"
       ]
      }
     ],
     "prompt_number": 12
    },
    {
     "cell_type": "code",
     "collapsed": false,
     "input": [],
     "language": "python",
     "metadata": {},
     "outputs": []
    }
   ],
   "metadata": {}
  }
 ]
}