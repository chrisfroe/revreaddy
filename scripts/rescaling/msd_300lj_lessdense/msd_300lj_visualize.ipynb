{
 "metadata": {
  "name": "",
  "signature": "sha256:d052ddef840c0e32c51edf945c755670c4a63631d6d9032c80c45be9b34a58b6"
 },
 "nbformat": 3,
 "nbformat_minor": 0,
 "worksheets": [
  {
   "cells": [
    {
     "cell_type": "code",
     "collapsed": false,
     "input": [
      "#%matplotlib inline\n",
      "#%matplotlib qt\n",
      "import numpy as np\n",
      "from matplotlib import rc\n",
      "rc('font', **{'family': 'serif', 'serif': ['Computer Modern'], 'size': 14})\n",
      "rc('text', usetex=True)\n",
      "import matplotlib.pyplot as plt\n",
      "import pylab\n",
      "pylab.rcParams['figure.figsize'] = (12.0, 6.0)\n",
      "import revreaddy.sim as sim\n",
      "import revreaddy.utils as utils\n",
      "import time\n",
      "import os"
     ],
     "language": "python",
     "metadata": {},
     "outputs": [],
     "prompt_number": 1
    },
    {
     "cell_type": "code",
     "collapsed": false,
     "input": [
      "boxsize           = 13.\n",
      "temperature       = 1.\n",
      "particleType      = \"lj\"\n",
      "radius            = 1.\n",
      "diffusionConstant = 1.\n",
      "numberOfParticles = 300\n",
      "\n",
      "# determine filename for the desired system\n",
      "filedir  = \"../../saves/\" \n",
      "filename = filedir + \"equ_\" \\\n",
      "        + \"N\"  + str(numberOfParticles) \\\n",
      "        + \"B\"  + str(boxsize) \\\n",
      "        + \"TE\" + str(temperature) \\\n",
      "        + \"TY\" + str(particleType) \\\n",
      "        + \"R\"  + str(radius) \\\n",
      "        + \"D\"  + str(diffusionConstant) \\\n",
      "        + \".hdf5\"\n",
      "\n",
      "simulation = utils.loadSimulation(filename)\n",
      "\n",
      "print \"Number of particles:\", simulation.getParticleNumber()\n",
      "packingDensity  = float(simulation.getParticleNumber()) * 4. * np.pi * radius**3.\n",
      "packingDensity /= 3. * simulation.boxsize**3.\n",
      "print \"packing density:\", packingDensity"
     ],
     "language": "python",
     "metadata": {},
     "outputs": [
      {
       "output_type": "stream",
       "stream": "stdout",
       "text": [
        "Number of particles: 300\n",
        "packing density: 0.571978635155\n"
       ]
      }
     ],
     "prompt_number": 2
    },
    {
     "cell_type": "code",
     "collapsed": false,
     "input": [
      "length = 2000\n",
      "timestep = 1e-5\n",
      "simulation.showTypes()\n",
      "simulation.timestep = timestep"
     ],
     "language": "python",
     "metadata": {},
     "outputs": [
      {
       "output_type": "stream",
       "stream": "stdout",
       "text": [
        "Number of types: 4\n",
        "Id   Name           Radius    Diffusion-    Reaction-    Force-  \n",
        "                              Constant      Radius       Type    \n",
        "-----------------------------------------------------------------\n",
        "0    default        1.0       0.0           1.0          0       \n",
        "1    lj             1.0       1.0           1.0          1       \n",
        "2    soft           1.0       1.0           1.0          2       \n",
        "3    custom-lj      1.0       1.0           1.0          1       \n"
       ]
      }
     ],
     "prompt_number": 3
    },
    {
     "cell_type": "markdown",
     "metadata": {},
     "source": [
      "Equilibrate\n",
      "----------"
     ]
    },
    {
     "cell_type": "code",
     "collapsed": false,
     "input": [
      "simulation.isReversible = True\n",
      "simulation.maxTime = length\n",
      "simulation.run()"
     ],
     "language": "python",
     "metadata": {},
     "outputs": [],
     "prompt_number": 4
    },
    {
     "cell_type": "code",
     "collapsed": false,
     "input": [
      "simulation.new_Trajectory(\"imprstalk.xyz\")\n",
      "simulation.acceptions = 0\n",
      "simulation.rejections = 0\n",
      "simulation.maxTime = length\n",
      "t1 = time.clock()\n",
      "simulation.run()\n",
      "t2 = time.clock()\n",
      "simulation.writeAllObservablesToFile()\n",
      "simulation.deleteAllObservables()\n",
      "print \"Acceptance:\", simulation.acceptanceRate()\n",
      "print \"Time:\", t2 - t1, \"s\""
     ],
     "language": "python",
     "metadata": {},
     "outputs": [
      {
       "output_type": "stream",
       "stream": "stdout",
       "text": [
        "Acceptance: 0.69335\n",
        "Time: 4.722425 s\n"
       ]
      }
     ],
     "prompt_number": 5
    },
    {
     "cell_type": "code",
     "collapsed": false,
     "input": [],
     "language": "python",
     "metadata": {},
     "outputs": []
    }
   ],
   "metadata": {}
  }
 ]
}