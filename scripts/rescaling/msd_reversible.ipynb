{
 "metadata": {
  "name": "",
  "signature": "sha256:84cc9e581234f40a877bb1caf9617963648f1b493f6da5f81531a0cfb58b0d6d"
 },
 "nbformat": 3,
 "nbformat_minor": 0,
 "worksheets": [
  {
   "cells": [
    {
     "cell_type": "code",
     "collapsed": false,
     "input": [
      "%matplotlib inline\n",
      "#%matplotlib qt\n",
      "import numpy as np\n",
      "from matplotlib import rc\n",
      "rc('font', **{'family': 'serif', 'serif': ['Computer Modern'], 'size': 15})\n",
      "rc('text', usetex=True)\n",
      "import matplotlib.pyplot as plt\n",
      "import pylab\n",
      "pylab.rcParams['figure.figsize'] = (12.0, 6.0)\n",
      "import sim\n",
      "import utils\n",
      "import time\n",
      "simulation = sim.pySimulation()"
     ],
     "language": "python",
     "metadata": {},
     "outputs": [],
     "prompt_number": 1
    },
    {
     "cell_type": "code",
     "collapsed": false,
     "input": [
      "boxsize           = 16.\n",
      "temperature       = 1.\n",
      "particleType      = \"lj\"\n",
      "radius            = 1.\n",
      "diffusionConstant = 1.\n",
      "numberOfParticles = 512\n",
      "\n",
      "# determine filename for the desired system\n",
      "filedir  = \"data/\" \n",
      "filename = filedir + \"equ_\" \\\n",
      "        + \"N\"  + str(numberOfParticles) \\\n",
      "        + \"B\"  + str(boxsize) \\\n",
      "        + \"TE\" + str(temperature) \\\n",
      "        + \"TY\" + str(particleType) \\\n",
      "        + \"R\"  + str(radius) \\\n",
      "        + \"D\"  + str(diffusionConstant) \\\n",
      "        + \".dat\"\n",
      "\n",
      "simulation = utils.loadSimulation(filename)\n",
      "simulation.timestep = 2e-5\n",
      "print \"Number of particles:\", simulation.getParticleNumber()"
     ],
     "language": "python",
     "metadata": {},
     "outputs": [
      {
       "output_type": "stream",
       "stream": "stdout",
       "text": [
        "Number of particles: 512\n"
       ]
      }
     ],
     "prompt_number": 2
    },
    {
     "cell_type": "code",
     "collapsed": false,
     "input": [
      "simulation.isReversible = True\n",
      "msdname_rev = \"msd_\" + time.strftime(\"%Y_%m_%d-%H_%M_%S\") + \".dat\"\n",
      "simulation.new_MeanSquaredDisplacement(msdname_rev, sim.typeStringToId[\"lj\"])\n",
      "simulation.acceptions = 0\n",
      "simulation.rejections = 0\n",
      "simulation.maxTime = 300\n",
      "simulation.run()\n",
      "simulation.writeAllObservablesToFile()\n",
      "simulation.deleteAllObservables()\n",
      "print \"Acceptance:\", simulation.acceptanceRate()"
     ],
     "language": "python",
     "metadata": {},
     "outputs": [
      {
       "output_type": "stream",
       "stream": "stdout",
       "text": [
        "Acceptance: 0.37124\n"
       ]
      }
     ],
     "prompt_number": 3
    },
    {
     "cell_type": "code",
     "collapsed": false,
     "input": [
      "simulation.isReversible = False\n",
      "msdname_irrev = \"msd_\" + time.strftime(\"%Y_%m_%d-%H_%M_%S\") + \".dat\"\n",
      "simulation.new_MeanSquaredDisplacement(msdname_irrev, sim.typeStringToId[\"lj\"])\n",
      "simulation.acceptions = 0\n",
      "simulation.rejections = 0\n",
      "simulation.maxTime = 300\n",
      "simulation.run()\n",
      "simulation.writeAllObservablesToFile()\n",
      "simulation.deleteAllObservables()\n",
      "print \"Acceptance:\", simulation.acceptanceRate()"
     ],
     "language": "python",
     "metadata": {},
     "outputs": [
      {
       "output_type": "stream",
       "stream": "stdout",
       "text": [
        "Acceptance: 0.0\n"
       ]
      }
     ],
     "prompt_number": 4
    },
    {
     "cell_type": "code",
     "collapsed": false,
     "input": [
      "%matplotlib inline\n",
      "msd_rev = np.transpose(np.loadtxt(msdname_rev,skiprows=2))\n",
      "msd_irrev = np.transpose(np.loadtxt(msdname_irrev,skiprows=2))\n",
      "fro   = 0\n",
      "to    = -1#len(msd_rev[0])/2\n",
      "every = 1\n",
      "print msd_rev\n",
      "plt.errorbar(\n",
      "    msd_rev[0][fro:to:every],\n",
      "    msd_rev[1][fro:to:every],\n",
      "    yerr=msd_rev[3][fro:to:every],\n",
      "    color=\"blue\")\n",
      "plt.errorbar(\n",
      "    msd_irrev[0][fro:to:every],\n",
      "    msd_irrev[1][fro:to:every],\n",
      "    yerr=msd_irrev[3][fro:to:every],\n",
      "    color=\"red\")\n",
      "plt.xlabel(\"time\")\n",
      "plt.ylabel(\"mean squared displacement\")\n",
      "plt.grid(b=1)\n",
      "plt.show()"
     ],
     "language": "python",
     "metadata": {},
     "outputs": [
      {
       "output_type": "stream",
       "stream": "stdout",
       "text": [
        "[[  2.00000000e-05   4.00000000e-05   6.00000000e-05 ...,   5.94000000e-03\n",
        "    5.96000000e-03   5.98000000e-03]\n",
        " [  0.00000000e+00   1.20012000e-04   2.43308000e-04 ...,   1.28190000e-02\n",
        "    1.28190000e-02   1.28190000e-02]\n",
        " [  0.00000000e+00   9.75650000e-05   1.97894000e-04 ...,   1.05499000e-02\n",
        "    1.05499000e-02   1.05499000e-02]\n",
        " [  0.00000000e+00   4.31181000e-06   8.74575000e-06 ...,   4.66244000e-04\n",
        "    4.66244000e-04   4.66244000e-04]\n",
        " [  5.12000000e+02   5.12000000e+02   5.12000000e+02 ...,   5.12000000e+02\n",
        "    5.12000000e+02   5.12000000e+02]]\n"
       ]
      },
      {
       "metadata": {},
       "output_type": "display_data",
       "png": "[encoded data removed]",
       "text": [
        "<matplotlib.figure.Figure at 0x7fa9091e9890>"
       ]
      }
     ],
     "prompt_number": 6
    },
    {
     "cell_type": "code",
     "collapsed": false,
     "input": [],
     "language": "python",
     "metadata": {},
     "outputs": []
    }
   ],
   "metadata": {}
  }
 ]
}