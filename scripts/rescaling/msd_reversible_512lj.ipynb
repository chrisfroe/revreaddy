{
 "metadata": {
  "name": "",
  "signature": "sha256:9bcf8326aa8c55749a47af710c3ce0a1ebabe8ae4e3b6e29843021e9ce35c6dc"
 },
 "nbformat": 3,
 "nbformat_minor": 0,
 "worksheets": [
  {
   "cells": [
    {
     "cell_type": "code",
     "collapsed": false,
     "input": [
      "#%matplotlib inline\n",
      "#%matplotlib qt\n",
      "import numpy as np\n",
      "from matplotlib import rc\n",
      "rc('font', **{'family': 'serif', 'serif': ['Computer Modern'], 'size': 15})\n",
      "rc('text', usetex=True)\n",
      "import matplotlib.pyplot as plt\n",
      "import pylab\n",
      "pylab.rcParams['figure.figsize'] = (12.0, 6.0)\n",
      "import revreaddy.sim as sim\n",
      "import revreaddy.utils as utils\n",
      "import time"
     ],
     "language": "python",
     "metadata": {},
     "outputs": [],
     "prompt_number": 1
    },
    {
     "cell_type": "code",
     "collapsed": false,
     "input": [
      "boxsize           = 16.\n",
      "temperature       = 1.\n",
      "particleType      = \"lj\"\n",
      "radius            = 1.\n",
      "diffusionConstant = 1.\n",
      "numberOfParticles = 512\n",
      "\n",
      "# determine filename for the desired system\n",
      "filedir  = \"../saves/\" \n",
      "filename = filedir + \"equ_\" \\\n",
      "        + \"N\"  + str(numberOfParticles) \\\n",
      "        + \"B\"  + str(boxsize) \\\n",
      "        + \"TE\" + str(temperature) \\\n",
      "        + \"TY\" + str(particleType) \\\n",
      "        + \"R\"  + str(radius) \\\n",
      "        + \"D\"  + str(diffusionConstant) \\\n",
      "        + \".hdf5\"\n",
      "\n",
      "simulation1 = utils.loadSimulation(filename)\n",
      "simulation2 = utils.loadSimulation(filename)\n",
      "\n",
      "print \"Number of particles 1:\", simulation1.getParticleNumber()\n",
      "packingDensity  = float(simulation1.getParticleNumber()) * 4. * np.pi * radius**3.\n",
      "packingDensity /= 3. * simulation1.boxsize**3.\n",
      "print \"packing density 1:\", packingDensity"
     ],
     "language": "python",
     "metadata": {},
     "outputs": [
      {
       "output_type": "stream",
       "stream": "stdout",
       "text": [
        "Number of particles 1: 512\n",
        "packing density 1: 0.523598775598\n"
       ]
      }
     ],
     "prompt_number": 2
    },
    {
     "cell_type": "code",
     "collapsed": false,
     "input": [
      "timestep = 5e-6\n",
      "simulation1.showTypes()\n",
      "simulation2.showTypes()\n",
      "simulation1.timestep = timestep\n",
      "simulation2.timestep = timestep"
     ],
     "language": "python",
     "metadata": {},
     "outputs": [
      {
       "output_type": "stream",
       "stream": "stdout",
       "text": [
        "Number of types: 4\n",
        "Id   Name           Radius    Diffusion-    Reaction-    Force-  \n",
        "                              Constant      Radius       Type    \n",
        "-----------------------------------------------------------------\n",
        "0    default        1.0       0.0           1.0          0       \n",
        "1    lj             1.0       1.0           1.0          1       \n",
        "2    soft           1.0       1.0           1.0          2       \n",
        "3    custom-lj      1.0       1.0           1.0          1       \n",
        "Number of types: 4\n",
        "Id   Name           Radius    Diffusion-    Reaction-    Force-  \n",
        "                              Constant      Radius       Type    \n",
        "-----------------------------------------------------------------\n",
        "0    default        1.0       0.0           1.0          0       \n",
        "1    lj             1.0       1.0           1.0          1       \n",
        "2    soft           1.0       1.0           1.0          2       \n",
        "3    custom-lj      1.0       1.0           1.0          1       \n"
       ]
      }
     ],
     "prompt_number": 3
    },
    {
     "cell_type": "markdown",
     "metadata": {},
     "source": [
      "Equilibrate\n",
      "----------"
     ]
    },
    {
     "cell_type": "code",
     "collapsed": false,
     "input": [
      "simulation1.isReversible = False\n",
      "simulation1.maxTime = 5000\n",
      "simulation1.run()\n",
      "simulation2.isReversible = True\n",
      "simulation2.maxTime = 5000\n",
      "simulation2.run()"
     ],
     "language": "python",
     "metadata": {},
     "outputs": [],
     "prompt_number": 4
    },
    {
     "cell_type": "markdown",
     "metadata": {},
     "source": [
      "Irreversible\n",
      "------------"
     ]
    },
    {
     "cell_type": "code",
     "collapsed": false,
     "input": [
      "simulation1.isReversible = False\n",
      "msdname_irrev = \"data/msd_\" + time.strftime(\"%Y_%m_%d-%H_%M_%S\") + \".dat\"\n",
      "simulation1.new_MeanSquaredDisplacement(msdname_irrev, 3)\n",
      "simulation1.acceptions = 0\n",
      "simulation1.rejections = 0\n",
      "simulation1.maxTime = 16000\n",
      "simulation1.run()\n",
      "simulation1.writeAllObservablesToFile()\n",
      "simulation1.deleteAllObservables()\n",
      "print \"Acceptance:\", simulation1.acceptanceRate()"
     ],
     "language": "python",
     "metadata": {},
     "outputs": [
      {
       "output_type": "stream",
       "stream": "stdout",
       "text": [
        "Acceptance: 0.0\n"
       ]
      }
     ],
     "prompt_number": 16
    },
    {
     "cell_type": "markdown",
     "metadata": {},
     "source": [
      "Reversible\n",
      "----------"
     ]
    },
    {
     "cell_type": "code",
     "collapsed": false,
     "input": [
      "simulation2.isReversible = True\n",
      "msdname_rev = \"data/msd_\" + time.strftime(\"%Y_%m_%d-%H_%M_%S\") + \".dat\"\n",
      "simulation2.new_MeanSquaredDisplacement(msdname_rev, 3)\n",
      "simulation2.acceptions = 0\n",
      "simulation2.rejections = 0\n",
      "simulation2.maxTime = 16000\n",
      "simulation2.run()\n",
      "simulation2.writeAllObservablesToFile()\n",
      "simulation2.deleteAllObservables()\n",
      "print \"Acceptance:\", simulation2.acceptanceRate()"
     ],
     "language": "python",
     "metadata": {},
     "outputs": [
      {
       "output_type": "stream",
       "stream": "stdout",
       "text": [
        "Acceptance: 0.77511\n"
       ]
      }
     ],
     "prompt_number": 17
    },
    {
     "cell_type": "code",
     "collapsed": false,
     "input": [
      "#%matplotlib qt\n",
      "msd_rev = np.transpose(np.loadtxt(msdname_rev,skiprows=2))\n",
      "msd_irrev = np.transpose(np.loadtxt(msdname_irrev,skiprows=2))\n",
      "fro   = 0\n",
      "to    = -1#len(msd_rev[0])/2\n",
      "every = 20\n",
      "#print msd_rev\n",
      "plt.errorbar(\n",
      "    msd_rev[0][fro:to:every],\n",
      "    msd_rev[1][fro:to:every],\n",
      "    yerr=msd_rev[3][fro:to:every],\n",
      "    fmt=\".\",\n",
      "    color=\"blue\")\n",
      "plt.errorbar(\n",
      "    msd_irrev[0][fro:to:every],\n",
      "    msd_irrev[1][fro:to:every],\n",
      "    yerr=msd_irrev[3][fro:to:every],\n",
      "    fmt=\".\",\n",
      "    color=\"red\")\n",
      "plt.xlabel(\"time\")\n",
      "plt.ylabel(\"mean squared displacement\")\n",
      "plt.grid(b=1)\n",
      "#plt.show()"
     ],
     "language": "python",
     "metadata": {},
     "outputs": [
      {
       "metadata": {},
       "output_type": "display_data",
       "png": "[encoded data removed]",
       "text": [
        "<matplotlib.figure.Figure at 0x7fd89e492b90>"
       ]
      }
     ],
     "prompt_number": 26
    },
    {
     "cell_type": "code",
     "collapsed": false,
     "input": [
      "#%matplotlib inline\n",
      "import scipy.optimize as so\n",
      "# abbreviation for plotting functions in certain range\n",
      "def plot(f,x0,xn,dx, **kw):\n",
      "    xRange = np.arange(x0,xn,dx)\n",
      "    yRange = np.array(map(f,xRange))\n",
      "    plt.plot(xRange,yRange, **kw)\n",
      "\n",
      "transition = 0.002\n",
      "names = [\"irreversible\",\"reversible\"]\n",
      "colors = [\"red\",\"blue\"]\n",
      "index  = [transition / timestep]\n",
      "index += [index[0] / simulation2.acceptanceRate()]\n",
      "index = map(int, index)\n",
      "print index\n",
      "ballistic  = [ [msd_irrev[0][0:index[0]], msd_irrev[1][0:index[0]], msd_irrev[3][0:index[0]]] ]\n",
      "ballistic += [ [msd_rev[0][0:index[1]], msd_rev[1][0:index[1]], msd_rev[3][0:index[1]]] ]\n",
      "ballisticCoeffs = []\n",
      "ballisticFunction = []\n",
      "for i in [0,1]:\n",
      "    def linearOne(x, a): return a*x\n",
      "    ballisticCoeffs += [\n",
      "        so.curve_fit(linearOne, ballistic[i][0], ballistic[i][1], sigma=ballistic[i][2])\n",
      "    ]\n",
      "    ballisticFunction +=[\n",
      "        lambda x: linearOne(x, ballisticCoeffs[i][0])\n",
      "    ]\n",
      "    plot(ballisticFunction[i], 0., msd_rev[0][-1] + msd_rev[0][-1] / 10., msd_rev[0][-1] / 10., color=colors[i])\n",
      "plt.show()"
     ],
     "language": "python",
     "metadata": {},
     "outputs": [
      {
       "output_type": "stream",
       "stream": "stdout",
       "text": [
        "[400, 516]\n"
       ]
      },
      {
       "metadata": {},
       "output_type": "display_data",
       "png": "[encoded data removed]",
       "text": [
        "<matplotlib.figure.Figure at 0x7fd89e95c990>"
       ]
      }
     ],
     "prompt_number": 25
    },
    {
     "cell_type": "code",
     "collapsed": false,
     "input": [],
     "language": "python",
     "metadata": {},
     "outputs": []
    }
   ],
   "metadata": {}
  }
 ]
}