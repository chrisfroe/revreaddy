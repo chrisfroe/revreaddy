{
 "metadata": {
  "name": "",
  "signature": "sha256:35ec4417ac115e736aa5ac750a44c48597f931bdbb122b857e3569ab667f5352"
 },
 "nbformat": 3,
 "nbformat_minor": 0,
 "worksheets": [
  {
   "cells": [
    {
     "cell_type": "code",
     "collapsed": false,
     "input": [
      "#%matplotlib inline\n",
      "#%matplotlib qt\n",
      "import numpy as np\n",
      "from matplotlib import rc\n",
      "rc('font', **{'family': 'serif', 'serif': ['Computer Modern'], 'size': 15})\n",
      "rc('text', usetex=True)\n",
      "import matplotlib.pyplot as plt\n",
      "import pylab\n",
      "pylab.rcParams['figure.figsize'] = (12.0, 6.0)\n",
      "import revreaddy.sim as sim\n",
      "import revreaddy.utils as utils\n",
      "import time"
     ],
     "language": "python",
     "metadata": {},
     "outputs": [],
     "prompt_number": 1
    },
    {
     "cell_type": "code",
     "collapsed": false,
     "input": [
      "boxsize           = 16.\n",
      "temperature       = 1.\n",
      "particleType      = \"lj\"\n",
      "radius            = 1.\n",
      "diffusionConstant = 1.\n",
      "numberOfParticles = 700\n",
      "\n",
      "# determine filename for the desired system\n",
      "filedir  = \"../saves/\" \n",
      "filename = filedir + \"equ_\" \\\n",
      "        + \"N\"  + str(numberOfParticles) \\\n",
      "        + \"B\"  + str(boxsize) \\\n",
      "        + \"TE\" + str(temperature) \\\n",
      "        + \"TY\" + str(particleType) \\\n",
      "        + \"R\"  + str(radius) \\\n",
      "        + \"D\"  + str(diffusionConstant) \\\n",
      "        + \".hdf5\"\n",
      "\n",
      "simulation1 = utils.loadSimulation(filename)\n",
      "simulation2 = utils.loadSimulation(filename)\n",
      "\n",
      "print \"Number of particles 1:\", simulation1.getParticleNumber()\n",
      "packingDensity  = float(simulation1.getParticleNumber()) * 4. * np.pi * radius**3.\n",
      "packingDensity /= 3. * simulation1.boxsize**3.\n",
      "print \"packing density 1:\", packingDensity"
     ],
     "language": "python",
     "metadata": {},
     "outputs": [
      {
       "output_type": "stream",
       "stream": "stdout",
       "text": [
        "Number of particles 1: 700\n",
        "packing density 1: 0.715857701013\n"
       ]
      }
     ],
     "prompt_number": 2
    },
    {
     "cell_type": "code",
     "collapsed": false,
     "input": [
      "timestep = 8e-7\n",
      "simulation1.showTypes()\n",
      "simulation2.showTypes()\n",
      "simulation1.timestep = timestep\n",
      "simulation2.timestep = timestep"
     ],
     "language": "python",
     "metadata": {},
     "outputs": [
      {
       "output_type": "stream",
       "stream": "stdout",
       "text": [
        "Number of types: 4\n",
        "Id   Name           Radius    Diffusion-    Reaction-    Force-  \n",
        "                              Constant      Radius       Type    \n",
        "-----------------------------------------------------------------\n",
        "0    default        1.0       0.0           1.0          0       \n",
        "1    lj             1.0       1.0           1.0          1       \n",
        "2    soft           1.0       1.0           1.0          2       \n",
        "3    custom-lj      1.0       1.0           1.0          1       \n",
        "Number of types: 4\n",
        "Id   Name           Radius    Diffusion-    Reaction-    Force-  \n",
        "                              Constant      Radius       Type    \n",
        "-----------------------------------------------------------------\n",
        "0    default        1.0       0.0           1.0          0       \n",
        "1    lj             1.0       1.0           1.0          1       \n",
        "2    soft           1.0       1.0           1.0          2       \n",
        "3    custom-lj      1.0       1.0           1.0          1       \n"
       ]
      }
     ],
     "prompt_number": 3
    },
    {
     "cell_type": "markdown",
     "metadata": {},
     "source": [
      "Equilibrate\n",
      "----------"
     ]
    },
    {
     "cell_type": "code",
     "collapsed": false,
     "input": [
      "simulation1.isReversible = False\n",
      "simulation1.maxTime = 50000\n",
      "simulation1.run()\n",
      "simulation2.isReversible = True\n",
      "simulation2.maxTime = 50000\n",
      "simulation2.run()"
     ],
     "language": "python",
     "metadata": {},
     "outputs": [],
     "prompt_number": 4
    },
    {
     "cell_type": "markdown",
     "metadata": {},
     "source": [
      "Irreversible\n",
      "------------"
     ]
    },
    {
     "cell_type": "code",
     "collapsed": false,
     "input": [
      "simulation1.isReversible = False\n",
      "msdname_irrev = \"data/msd_\" + time.strftime(\"%Y_%m_%d-%H_%M_%S\") + \".dat\"\n",
      "simulation1.new_MeanSquaredDisplacement(msdname_irrev, 3)\n",
      "simulation1.acceptions = 0\n",
      "simulation1.rejections = 0\n",
      "simulation1.maxTime = 240000\n",
      "simulation1.run()\n",
      "simulation1.writeAllObservablesToFile()\n",
      "simulation1.deleteAllObservables()\n",
      "print \"Acceptance:\", simulation1.acceptanceRate()"
     ],
     "language": "python",
     "metadata": {},
     "outputs": [
      {
       "output_type": "stream",
       "stream": "stdout",
       "text": [
        "Acceptance: 0.0\n"
       ]
      }
     ],
     "prompt_number": 5
    },
    {
     "cell_type": "markdown",
     "metadata": {},
     "source": [
      "Reversible\n",
      "----------"
     ]
    },
    {
     "cell_type": "code",
     "collapsed": false,
     "input": [
      "simulation2.isReversible = True\n",
      "msdname_rev = \"data/msd_\" + time.strftime(\"%Y_%m_%d-%H_%M_%S\") + \".dat\"\n",
      "simulation2.new_MeanSquaredDisplacement(msdname_rev, 3)\n",
      "simulation2.acceptions = 0\n",
      "simulation2.rejections = 0\n",
      "simulation2.maxTime = 240000\n",
      "simulation2.run()\n",
      "simulation2.writeAllObservablesToFile()\n",
      "simulation2.deleteAllObservables()\n",
      "print \"Acceptance:\", simulation2.acceptanceRate()"
     ],
     "language": "python",
     "metadata": {},
     "outputs": [
      {
       "output_type": "stream",
       "stream": "stdout",
       "text": [
        "Acceptance: 0.84767\n"
       ]
      }
     ],
     "prompt_number": 6
    },
    {
     "cell_type": "markdown",
     "metadata": {},
     "source": [
      "### Load MSD data"
     ]
    },
    {
     "cell_type": "code",
     "collapsed": false,
     "input": [
      "if (False):\n",
      "    msd_rev = np.transpose(np.loadtxt(msdname_rev,skiprows=2))\n",
      "    msd_irrev = np.transpose(np.loadtxt(msdname_irrev,skiprows=2))\n",
      "    acceptanceRate = simulation2.acceptanceRate()\n",
      "elif (False):\n",
      "    msd_rev = np.transpose(np.loadtxt(\"importantdata/rev87.dat\",skiprows=2))\n",
      "    msd_irrev = np.transpose(np.loadtxt(\"importantdata/irrev87.dat\",skiprows=2))\n",
      "    timestep = 6e-7\n",
      "    acceptanceRate = 0.87942\n",
      "else:\n",
      "    msd_rev = np.transpose(np.loadtxt(\"importantdata/rev84.dat\",skiprows=2))\n",
      "    msd_irrev = np.transpose(np.loadtxt(\"importantdata/irrev84.dat\",skiprows=2))\n",
      "    timestep = 8e-7\n",
      "    acceptanceRate = 0.84767\n"
     ],
     "language": "python",
     "metadata": {},
     "outputs": [],
     "prompt_number": 12
    },
    {
     "cell_type": "markdown",
     "metadata": {},
     "source": [
      "### Plot raw data"
     ]
    },
    {
     "cell_type": "code",
     "collapsed": false,
     "input": [
      "#%matplotlib qt\n",
      "fro   = 0\n",
      "to    = -1#len(msd_rev[0])/2\n",
      "every = 100\n",
      "#print msd_rev\n",
      "plt.errorbar(\n",
      "    msd_rev[0][fro:to:every],\n",
      "    msd_rev[1][fro:to:every],\n",
      "    yerr=msd_rev[3][fro:to:every],\n",
      "    fmt=\".\",\n",
      "    color=\"blue\")\n",
      "plt.errorbar(\n",
      "    msd_irrev[0][fro:to:every],\n",
      "    msd_irrev[1][fro:to:every],\n",
      "    yerr=msd_irrev[3][fro:to:every],\n",
      "    fmt=\".\",\n",
      "    color=\"red\")\n",
      "plt.xlabel(\"time\")\n",
      "plt.ylabel(\"mean squared displacement\")\n",
      "plt.grid(b=1)\n",
      "#plt.show()"
     ],
     "language": "python",
     "metadata": {},
     "outputs": [],
     "prompt_number": 24
    },
    {
     "cell_type": "markdown",
     "metadata": {},
     "source": [
      "### Prepare the data, determine subsets of ballistic/bulk regime"
     ]
    },
    {
     "cell_type": "code",
     "collapsed": false,
     "input": [
      "import scipy.optimize as so\n",
      "# abbreviation for plotting functions in certain range\n",
      "def plot(f, xRange,*args, **kwargs):\n",
      "    yRange = map(f,xRange)\n",
      "    plt.plot(xRange,yRange, *args, **kwargs)\n",
      "\n",
      "transition = 0.0001 # define the time until ballistic slope is determined\n",
      "bulkLag = 1 # the lag time to resolve the bulk msd. larger value -> smaller arrays\n",
      "names = {\"irreversible\" : \"irreversible\", \"reversible\" : \"reversible\"}\n",
      "colors = { \"irreversible\" : \"brown\", \"reversible\" : \"turquoise\"}\n",
      "index  = {\n",
      "    \"irreversible\" : int(transition / timestep),\n",
      "    \"reversible\" : int(transition / timestep / acceptanceRate)\n",
      "}\n",
      "print index\n",
      "half_rev = len(msd_rev[0]) / 2\n",
      "half_irrev = int( float(half_rev) * acceptanceRate )\n",
      "end_irrev = int(msd_rev[0][-1]*acceptanceRate / timestep)\n",
      "print \"half_irrev\", half_irrev, \"half_rev\", half_rev\n",
      "\n",
      "# ballistic data irreversible -> ballistic[\"irreversible\"]\n",
      "# ballistic data reversible -> ballistic[\"reversible\"]\n",
      "ballistic  = {\n",
      "    \"irreversible\" :  [\n",
      "        msd_irrev[0][0:index[\"irreversible\"]],\n",
      "        msd_irrev[1][0:index[\"irreversible\"]],\n",
      "        msd_irrev[3][0:index[\"irreversible\"]]\n",
      "     ],\n",
      "    \"reversible\" : [\n",
      "        msd_rev[0][0:index[\"reversible\"]],\n",
      "        msd_rev[1][0:index[\"reversible\"]],\n",
      "        msd_rev[3][0:index[\"reversible\"]]\n",
      "    ]\n",
      "}\n",
      "# bulk data irreversible -> bulk[\"irreversible\"]\n",
      "# bulk data reversible -> bulk[\"reversible\"]\n",
      "bulk  = { \n",
      "    \"irreversible\" : [\n",
      "        msd_irrev[0][half_irrev:end_irrev:bulkLag],\n",
      "        msd_irrev[1][half_irrev:end_irrev:bulkLag],\n",
      "        msd_irrev[2][half_irrev:end_irrev:bulkLag]\n",
      "    ],\n",
      "    \"reversible\" : [\n",
      "        msd_rev[0][half_rev:-1:bulkLag],\n",
      "        msd_rev[1][half_rev:-1:bulkLag],\n",
      "        msd_rev[2][half_rev:-1:bulkLag]\n",
      "    ]\n",
      "}"
     ],
     "language": "python",
     "metadata": {},
     "outputs": [
      {
       "output_type": "stream",
       "stream": "stdout",
       "text": [
        "{'reversible': 147, 'irreversible': 125}\n",
        "half_irrev 101719 half_rev 119999\n"
       ]
      }
     ],
     "prompt_number": 25
    },
    {
     "cell_type": "markdown",
     "metadata": {},
     "source": [
      "### Linear regression in ballistic regime"
     ]
    },
    {
     "cell_type": "code",
     "collapsed": false,
     "input": [
      "ballisticCoeffs, ballisticFunction, \\\n",
      "ballisticSlopes, ballisticSlopesErr, \\\n",
      " = dict(), dict(), dict(), dict()\n",
      "\n",
      "for i in [\"irreversible\", \"reversible\"]:\n",
      "    def linearOne(x, a): return a*x\n",
      "    if (ballistic[i][2][0] == 0.):\n",
      "        print \"no errors considered in linear regression of ballistic\", names[i]\n",
      "        ballisticCoeffs[i] = so.curve_fit(linearOne, ballistic[i][0], ballistic[i][1])\n",
      "    else:\n",
      "        ballisticCoeffs[i] = so.curve_fit(linearOne, ballistic[i][0], ballistic[i][1], sigma=ballistic[i][2])\n",
      "    ballisticSlopes[i] = ballisticCoeffs[i][0][0]\n",
      "    ballisticSlopesErr[i] = np.sqrt( ballisticCoeffs[i][1][0][0] )\n",
      "    ballisticFunction[i] = lambda x: linearOne(x, ballisticSlopes[i])\n",
      "    plot(\n",
      "        ballisticFunction[i],\n",
      "        np.arange(0., msd_rev[0][-1] + msd_rev[0][-1] / 1000., msd_rev[0][-1] / 1000.),\n",
      "        \"--\",\n",
      "        color=colors[i] )\n",
      "    plot(\n",
      "        ballisticFunction[i],\n",
      "        np.arange(0., msd_rev[0][-1] / 1000., msd_rev[0][-1] / 1000000.),\n",
      "        \"--\",\n",
      "        color=colors[i] )\n",
      "    \n",
      "print \"ballisticSlopes\", ballisticSlopes\n",
      "print \"ballisticSlopesErr\", ballisticSlopesErr"
     ],
     "language": "python",
     "metadata": {},
     "outputs": [
      {
       "output_type": "stream",
       "stream": "stdout",
       "text": [
        "ballisticSlopes {'reversible': 4.7824154968037105, 'irreversible': 5.91965350242317}\n",
        "ballisticSlopesErr {'reversible': 0.026135785393099228, 'irreversible': 0.010891195812713242}\n"
       ]
      }
     ],
     "prompt_number": 26
    },
    {
     "cell_type": "markdown",
     "metadata": {},
     "source": [
      "### Power law fit in bulk regime"
     ]
    },
    {
     "cell_type": "code",
     "collapsed": false,
     "input": [
      "bulkCoeffs, bulkFunction,\\\n",
      "bulkFactor, bulkFactorErr,\\\n",
      "bulkExponent, bulkExponentErr \\\n",
      " = dict(), dict(), dict(), dict(), dict(), dict()\n",
      "\n",
      "i = \"irreversible\"\n",
      "def powerLawTwo(x, a, b): return a*np.power(x, b)\n",
      "bulkCoeffs[i]      = so.curve_fit(powerLawTwo, bulk[i][0], bulk[i][1], sigma=bulk[i][2])\n",
      "bulkFactor[i]      = bulkCoeffs[i][0][0]\n",
      "bulkFactorErr[i]   = np.sqrt(bulkCoeffs[i][1][0,0])\n",
      "bulkExponent[i]    = bulkCoeffs[i][0][1]\n",
      "bulkExponentErr[i] = np.sqrt(bulkCoeffs[i][1][1,1])\n",
      "bulkFunction[i] = lambda x: powerLawTwo(x, bulkFactor[i], bulkExponent[i])\n",
      "\n",
      "i = \"reversible\"\n",
      "def powerLawOne(x, a): return a*np.power(x, bulkExponent[\"irreversible\"])\n",
      "bulkCoeffs[i]      = so.curve_fit(powerLawOne, bulk[i][0], bulk[i][1], sigma=bulk[i][2])\n",
      "bulkFactor[i]      = bulkCoeffs[i][0][0]\n",
      "bulkFactorErr[i]   = np.sqrt(bulkCoeffs[i][1][0])\n",
      "bulkExponent[i]    = bulkExponent[\"irreversible\"]\n",
      "bulkExponentErr[i] = bulkExponentErr[\"irreversible\"]\n",
      "bulkFunction[i] = lambda x: powerLawOne(x, bulkFactor[i])\n",
      "\n",
      "xRange = np.logspace(-7., 0.)\n",
      "[ plot(bulkFunction[i], xRange, \"-\", color=colors[i]) for i in [\"irreversible\",\"reversible\"]]\n",
      "print \"bulkFactor\", bulkFactor\n",
      "print \"bulkExponent\", bulkExponent"
     ],
     "language": "python",
     "metadata": {},
     "outputs": [
      {
       "output_type": "stream",
       "stream": "stdout",
       "text": [
        "bulkFactor {'reversible': 1.2789080480982769, 'irreversible': 1.4161328926212235}\n",
        "bulkExponent {'reversible': 0.80179796748379473, 'irreversible': 0.80179796748379473}\n"
       ]
      }
     ],
     "prompt_number": 27
    },
    {
     "cell_type": "markdown",
     "metadata": {},
     "source": [
      "### Show"
     ]
    },
    {
     "cell_type": "code",
     "collapsed": false,
     "input": [
      "print \"bulkFactor\", bulkFactor\n",
      "print \"bulkExponent\", bulkExponent\n",
      "print \"acceptance\", acceptanceRate\n",
      "print \"ballisticSlope_rev / ballisticSlope_irrev\", ballisticSlopes[\"reversible\"] / ballisticSlopes[\"irreversible\"]\n",
      "print \"bulkSlope_rev / bulkSlope_irrev\", bulkFactor[\"reversible\"] / bulkFactor[\"irreversible\"]\n",
      "if (True):\n",
      "    plt.xscale(\"log\")\n",
      "    plt.yscale(\"log\")\n",
      "    plt.xlim((1e-5,1e-1))\n",
      "    plt.ylim((1e-5,4e-1))\n",
      "else:\n",
      "    #plt.xlim((0.,1e-1))\n",
      "    #plt.ylim((0.,0.25))\n",
      "    pass\n",
      "plt.show()\n"
     ],
     "language": "python",
     "metadata": {},
     "outputs": [
      {
       "output_type": "stream",
       "stream": "stdout",
       "text": [
        "bulkFactor {'reversible': 1.2789080480982769, 'irreversible': 1.4161328926212235}\n",
        "bulkExponent {'reversible': 0.80179796748379473, 'irreversible': 0.80179796748379473}\n",
        "acceptance 0.84767\n",
        "ballisticSlope_rev / ballisticSlope_irrev 0.807887741207\n",
        "bulkSlope_rev / bulkSlope_irrev 0.903098893304\n"
       ]
      }
     ],
     "prompt_number": 29
    },
    {
     "cell_type": "code",
     "collapsed": false,
     "input": [],
     "language": "python",
     "metadata": {},
     "outputs": []
    }
   ],
   "metadata": {}
  }
 ]
}