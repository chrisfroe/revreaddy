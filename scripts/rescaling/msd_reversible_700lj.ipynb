{
 "metadata": {
  "name": "",
  "signature": "sha256:c90cad063f3eefd61ef61f35e9d66c515700bc5efe32893110ee478fb9b65c27"
 },
 "nbformat": 3,
 "nbformat_minor": 0,
 "worksheets": [
  {
   "cells": [
    {
     "cell_type": "code",
     "collapsed": false,
     "input": [
      "#%matplotlib inline\n",
      "#%matplotlib qt\n",
      "import numpy as np\n",
      "from matplotlib import rc\n",
      "rc('font', **{'family': 'serif', 'serif': ['Computer Modern'], 'size': 15})\n",
      "rc('text', usetex=True)\n",
      "import matplotlib.pyplot as plt\n",
      "import pylab\n",
      "pylab.rcParams['figure.figsize'] = (12.0, 6.0)\n",
      "import revreaddy.sim as sim\n",
      "import revreaddy.utils as utils\n",
      "import time"
     ],
     "language": "python",
     "metadata": {},
     "outputs": [],
     "prompt_number": 1
    },
    {
     "cell_type": "code",
     "collapsed": false,
     "input": [
      "boxsize           = 16.\n",
      "temperature       = 1.\n",
      "particleType      = \"lj\"\n",
      "radius            = 1.\n",
      "diffusionConstant = 1.\n",
      "numberOfParticles = 700\n",
      "\n",
      "# determine filename for the desired system\n",
      "filedir  = \"../saves/\" \n",
      "filename = filedir + \"equ_\" \\\n",
      "        + \"N\"  + str(numberOfParticles) \\\n",
      "        + \"B\"  + str(boxsize) \\\n",
      "        + \"TE\" + str(temperature) \\\n",
      "        + \"TY\" + str(particleType) \\\n",
      "        + \"R\"  + str(radius) \\\n",
      "        + \"D\"  + str(diffusionConstant) \\\n",
      "        + \".hdf5\"\n",
      "\n",
      "simulation1 = utils.loadSimulation(filename)\n",
      "simulation2 = utils.loadSimulation(filename)\n",
      "\n",
      "print \"Number of particles 1:\", simulation1.getParticleNumber()\n",
      "packingDensity  = float(simulation1.getParticleNumber()) * 4. * np.pi * radius**3.\n",
      "packingDensity /= 3. * simulation1.boxsize**3.\n",
      "print \"packing density 1:\", packingDensity"
     ],
     "language": "python",
     "metadata": {},
     "outputs": [
      {
       "output_type": "stream",
       "stream": "stdout",
       "text": [
        "Number of particles 1: 700\n",
        "packing density 1: 0.715857701013\n"
       ]
      }
     ],
     "prompt_number": 2
    },
    {
     "cell_type": "code",
     "collapsed": false,
     "input": [
      "timestep = 6e-7\n",
      "simulation1.showTypes()\n",
      "simulation2.showTypes()\n",
      "simulation1.timestep = timestep\n",
      "simulation2.timestep = timestep"
     ],
     "language": "python",
     "metadata": {},
     "outputs": [
      {
       "output_type": "stream",
       "stream": "stdout",
       "text": [
        "Number of types: 4\n",
        "Id   Name           Radius    Diffusion-    Reaction-    Force-  \n",
        "                              Constant      Radius       Type    \n",
        "-----------------------------------------------------------------\n",
        "0    default        1.0       0.0           1.0          0       \n",
        "1    lj             1.0       1.0           1.0          1       \n",
        "2    soft           1.0       1.0           1.0          2       \n",
        "3    custom-lj      1.0       1.0           1.0          1       \n",
        "Number of types: 4\n",
        "Id   Name           Radius    Diffusion-    Reaction-    Force-  \n",
        "                              Constant      Radius       Type    \n",
        "-----------------------------------------------------------------\n",
        "0    default        1.0       0.0           1.0          0       \n",
        "1    lj             1.0       1.0           1.0          1       \n",
        "2    soft           1.0       1.0           1.0          2       \n",
        "3    custom-lj      1.0       1.0           1.0          1       \n"
       ]
      }
     ],
     "prompt_number": 3
    },
    {
     "cell_type": "markdown",
     "metadata": {},
     "source": [
      "Equilibrate\n",
      "----------"
     ]
    },
    {
     "cell_type": "code",
     "collapsed": false,
     "input": [
      "simulation1.isReversible = False\n",
      "simulation1.maxTime = 5000\n",
      "simulation1.run()\n",
      "simulation2.isReversible = True\n",
      "simulation2.maxTime = 5000\n",
      "simulation2.run()"
     ],
     "language": "python",
     "metadata": {},
     "outputs": [],
     "prompt_number": 49
    },
    {
     "cell_type": "markdown",
     "metadata": {},
     "source": [
      "Irreversible\n",
      "------------"
     ]
    },
    {
     "cell_type": "code",
     "collapsed": false,
     "input": [
      "simulation1.isReversible = False\n",
      "msdname_irrev = \"data/msd_\" + time.strftime(\"%Y_%m_%d-%H_%M_%S\") + \".dat\"\n",
      "simulation1.new_MeanSquaredDisplacement(msdname_irrev, 3)\n",
      "simulation1.acceptions = 0\n",
      "simulation1.rejections = 0\n",
      "simulation1.maxTime = 160000\n",
      "simulation1.run()\n",
      "simulation1.writeAllObservablesToFile()\n",
      "simulation1.deleteAllObservables()\n",
      "print \"Acceptance:\", simulation1.acceptanceRate()"
     ],
     "language": "python",
     "metadata": {},
     "outputs": [
      {
       "output_type": "stream",
       "stream": "stdout",
       "text": [
        "Acceptance: 0.0\n"
       ]
      }
     ],
     "prompt_number": 59
    },
    {
     "cell_type": "markdown",
     "metadata": {},
     "source": [
      "Reversible\n",
      "----------"
     ]
    },
    {
     "cell_type": "code",
     "collapsed": false,
     "input": [
      "simulation2.isReversible = True\n",
      "msdname_rev = \"data/msd_\" + time.strftime(\"%Y_%m_%d-%H_%M_%S\") + \".dat\"\n",
      "simulation2.new_MeanSquaredDisplacement(msdname_rev, 3)\n",
      "simulation2.acceptions = 0\n",
      "simulation2.rejections = 0\n",
      "simulation2.maxTime = 160000\n",
      "simulation2.run()\n",
      "simulation2.writeAllObservablesToFile()\n",
      "simulation2.deleteAllObservables()\n",
      "print \"Acceptance:\", simulation2.acceptanceRate()"
     ],
     "language": "python",
     "metadata": {},
     "outputs": [
      {
       "output_type": "stream",
       "stream": "stdout",
       "text": [
        "Acceptance: 0.87942\n"
       ]
      }
     ],
     "prompt_number": 60
    },
    {
     "cell_type": "code",
     "collapsed": false,
     "input": [
      "#msd_rev = np.transpose(np.loadtxt(msdname_rev,skiprows=2))\n",
      "#msd_irrev = np.transpose(np.loadtxt(msdname_irrev,skiprows=2))\n",
      "msd_rev = np.transpose(np.loadtxt(\"importantdata/rev.dat\",skiprows=2))\n",
      "msd_irrev = np.transpose(np.loadtxt(\"importantdata/irrev.dat\",skiprows=2))"
     ],
     "language": "python",
     "metadata": {},
     "outputs": [],
     "prompt_number": 118
    },
    {
     "cell_type": "code",
     "collapsed": false,
     "input": [
      "#%matplotlib qt\n",
      "fro   = 0\n",
      "to    = -1#len(msd_rev[0])/2\n",
      "every = 1\n",
      "#print msd_rev\n",
      "plt.errorbar(\n",
      "    msd_rev[0][fro:to:every],\n",
      "    msd_rev[1][fro:to:every],\n",
      "    yerr=msd_rev[3][fro:to:every],\n",
      "    fmt=\".\",\n",
      "    color=\"blue\")\n",
      "plt.errorbar(\n",
      "    msd_irrev[0][fro:to:every],\n",
      "    msd_irrev[1][fro:to:every],\n",
      "    yerr=msd_irrev[3][fro:to:every],\n",
      "    fmt=\".\",\n",
      "    color=\"red\")\n",
      "plt.xlabel(\"time\")\n",
      "plt.ylabel(\"mean squared displacement\")\n",
      "plt.grid(b=1)\n",
      "#plt.show()"
     ],
     "language": "python",
     "metadata": {},
     "outputs": [],
     "prompt_number": 123
    },
    {
     "cell_type": "code",
     "collapsed": false,
     "input": [
      "import scipy.optimize as so\n",
      "# abbreviation for plotting functions in certain range\n",
      "def plot(f,x0,xn,dx, *args, **kwargs):\n",
      "    xRange = np.arange(x0,xn,dx)\n",
      "    yRange = np.array(map(f,xRange))\n",
      "    plt.plot(xRange,yRange, *args, **kwargs)\n",
      "\n",
      "transition = 0.0001\n",
      "bulkLag = 1\n",
      "names = [\"irreversible\",\"reversible\"]\n",
      "colors = [\"brown\",\"turquoise\"]\n",
      "index  = [transition / timestep]\n",
      "index += [index[0] / simulation2.acceptanceRate()]\n",
      "index = map(int, index)\n",
      "print index\n",
      "half_rev = len(msd_rev[0]) / 2\n",
      "half_irrev = int( float(half_rev) * simulation2.acceptanceRate() )\n",
      "end_irrev = int(msd_rev[0][-1]*simulation2.acceptanceRate() / timestep)\n",
      "print \"half_irrev\", half_irrev, \"half_rev\", half_rev\n",
      "ballistic  = [ [msd_irrev[0][0:index[0]], msd_irrev[1][0:index[0]], msd_irrev[3][0:index[0]]] ]\n",
      "ballistic += [ [msd_rev[0][0:index[1]], msd_rev[1][0:index[1]], msd_rev[3][0:index[1]]] ]\n",
      "bulk  = [ [msd_irrev[0][half_irrev:end_irrev:bulkLag], msd_irrev[1][half_irrev:end_irrev:bulkLag], msd_irrev[2][half_irrev:end_irrev:bulkLag]] ]\n",
      "bulk += [ [msd_rev[0][half_rev:-1:bulkLag], msd_rev[1][half_rev:-1:bulkLag], msd_rev[2][half_rev:-1:bulkLag]] ]\n",
      "ballisticCoeffs = []\n",
      "ballisticFunction = []\n",
      "ballisticSlopes = []\n",
      "ballisticSlopesErr = []\n",
      "bulkCoeffs = []\n",
      "bulkFunction = []\n",
      "bulkSlopes = []\n",
      "bulkSlopesErr = []\n",
      "bulkIntercept = []\n",
      "bulkInterceptErr = []\n",
      "\n",
      "# do linear regression in ballistic regime\n",
      "for i in [0,1]:\n",
      "    def linearOne(x, a): return a*x\n",
      "    if (ballistic[i][2][0] == 0.):\n",
      "        print \"no errors considered in linear regression of ballistic\", names[i]\n",
      "        ballisticCoeffs += [\n",
      "            so.curve_fit(linearOne, ballistic[i][0], ballistic[i][1])\n",
      "        ]\n",
      "    else:\n",
      "        ballisticCoeffs += [\n",
      "            so.curve_fit(linearOne, ballistic[i][0], ballistic[i][1], sigma=ballistic[i][2])\n",
      "        ]\n",
      "    ballisticSlopes += [ ballisticCoeffs[i][0][0] ]\n",
      "    ballisticSlopesErr += [ np.sqrt( ballisticCoeffs[i][1][0][0] ) ]\n",
      "    ballisticFunction +=[\n",
      "        lambda x: linearOne(x, ballisticSlopes[i])\n",
      "    ]\n",
      "    plot(ballisticFunction[i], 0., msd_rev[0][-1] + msd_rev[0][-1] / 1000., msd_rev[0][-1] / 1000.,\"--\", color=colors[i])\n",
      "    plot(ballisticFunction[i], 0., msd_rev[0][-1] / 1000., msd_rev[0][-1] / 1000000.,\"--\", color=colors[i])\n",
      "    \n",
      "print \"ballisticSlopes\", ballisticSlopes\n",
      "print \"ballisticSlopesErr\", ballisticSlopesErr\n",
      "\n",
      "# do linear regression in bulk regime\n",
      "for i in [0,1]:\n",
      "    def linearTwo(x, a, b): return a*np.power(x, b)\n",
      "    bulkCoeffs += [\n",
      "            so.curve_fit(linearTwo, bulk[i][0], bulk[i][1], sigma=bulk[i][2])\n",
      "        ]\n",
      "    print bulkCoeffs\n",
      "    bulkSlopes += [ bulkCoeffs[i][0][0] ]\n",
      "    bulkIntercept += [ bulkCoeffs[i][0][1] ]\n",
      "    bulkSlopesErr += [ np.sqrt( bulkCoeffs[i][1][0,0] ) ]\n",
      "    bulkInterceptErr += [ np.sqrt( bulkCoeffs[i][1][1,1] ) ]\n",
      "    bulkFunction += [\n",
      "        lambda x: linearTwo(x, bulkSlopes[i], bulkIntercept[i])\n",
      "    ]\n",
      "    plot(bulkFunction[i], 0., msd_rev[0][-1] + msd_rev[0][-1] / 1000., msd_rev[0][-1] / 1000., \"-\", color=colors[i])\n",
      "    plot(bulkFunction[i], 0., msd_rev[0][-1] / 1000., msd_rev[0][-1] / 1000000., \"-\", color=colors[i])\n",
      "print \"bulkSlopes\", bulkSlopes\n",
      "print \"bulkSlopesErr\", bulkSlopesErr\n",
      "acceptance = float(simulation2.acceptions) / float(simulation2.acceptions + simulation2.rejections)\n",
      "print \"acceptance\", acceptance\n",
      "print \"ballisticSlope_rev / ballisticSlope_irrev\", ballisticSlopes[1] / ballisticSlopes[0]\n",
      "print \"bulkSlope_rev / bulkSlope_irrev\", bulkSlopes[1] / bulkSlopes[0]\n",
      "#plt.xscale(\"log\")\n",
      "#plt.yscale(\"log\")\n",
      "plt.xlim((1e-5,1e-1))\n",
      "plt.show()"
     ],
     "language": "python",
     "metadata": {},
     "outputs": [
      {
       "output_type": "stream",
       "stream": "stdout",
       "text": [
        "[166, 189]\n",
        "half_irrev 70352 half_rev 79999\n",
        "no errors considered in linear regression of ballistic reversible\n",
        "ballisticSlopes [6.1066319361215173, 5.3454699288423191]\n",
        "ballisticSlopesErr [0.013244074436454128, 0.005913510080244177]\n",
        "[(array([ 1.11781185,  0.7194448 ]), array([[  3.04583062e-07,   9.77485542e-08],\n",
        "       [  9.77485542e-08,   3.15314872e-08]]))]"
       ]
      },
      {
       "output_type": "stream",
       "stream": "stdout",
       "text": [
        "\n",
        "[(array([ 1.11781185,  0.7194448 ]), array([[  3.04583062e-07,   9.77485542e-08],\n",
        "       [  9.77485542e-08,   3.15314872e-08]])), (array([ 1.07467593,  0.75254456]), array([[  3.32768175e-07,   1.15814335e-07],\n",
        "       [  1.15814335e-07,   4.05386848e-08]]))]"
       ]
      },
      {
       "output_type": "stream",
       "stream": "stdout",
       "text": [
        "\n",
        "bulkSlopes [1.117811853682531, 1.0746759332557556]\n",
        "bulkSlopesErr [0.00055189044420651703, 0.00057686062008456887]\n",
        "acceptance 0.879417996362\n",
        "ballisticSlope_rev / ballisticSlope_irrev 0.875354857597\n",
        "bulkSlope_rev / bulkSlope_irrev 0.961410392738\n"
       ]
      }
     ],
     "prompt_number": 126
    },
    {
     "cell_type": "code",
     "collapsed": false,
     "input": [],
     "language": "python",
     "metadata": {},
     "outputs": []
    }
   ],
   "metadata": {}
  }
 ]
}