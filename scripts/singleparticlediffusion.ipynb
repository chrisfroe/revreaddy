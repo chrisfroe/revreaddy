{
 "metadata": {
  "name": "",
  "signature": "sha256:693c4900a75be5cc43960987db4dad662cda40761311dfcaf5df648efff1e268"
 },
 "nbformat": 3,
 "nbformat_minor": 0,
 "worksheets": [
  {
   "cells": [
    {
     "cell_type": "markdown",
     "metadata": {},
     "source": [
      "Import all necessary modules, especially the revreaddy simulation module *sim*. Create a pySimulation object."
     ]
    },
    {
     "cell_type": "code",
     "collapsed": false,
     "input": [
      "%matplotlib inline\n",
      "#%matplotlib qt\n",
      "import numpy as np\n",
      "from matplotlib import rc\n",
      "rc('font', **{'family': 'serif', 'serif': ['Computer Modern'], 'size': 15})\n",
      "rc('text', usetex=True)\n",
      "import matplotlib.pyplot as plt\n",
      "import pylab\n",
      "pylab.rcParams['figure.figsize'] = (12.0, 6.0)\n",
      "import sim\n",
      "import time\n",
      "\n",
      "simulation = sim.pySimulation()"
     ],
     "language": "python",
     "metadata": {},
     "outputs": [],
     "prompt_number": 1
    },
    {
     "cell_type": "markdown",
     "metadata": {},
     "source": [
      "Set parameters. E.g. for free diffusion of a single particle we don't need a periodic box, therefore set ```simulation.isPeriodic``` to ```False```."
     ]
    },
    {
     "cell_type": "code",
     "collapsed": false,
     "input": [
      "simulation.isPeriodic        = False\n",
      "simulation.timestep          = 0.001\n",
      "simulation.temperature       = 1.\n",
      "simulation.repulsionStrength = 0."
     ],
     "language": "python",
     "metadata": {},
     "outputs": [],
     "prompt_number": 2
    },
    {
     "cell_type": "markdown",
     "metadata": {},
     "source": [
      "Add one particle at ```[0, 0, 0]``` and set its diffusion constant."
     ]
    },
    {
     "cell_type": "code",
     "collapsed": false,
     "input": [
      "zero              = np.array([0.,0.,0.])\n",
      "diffusionConstant = 1.\n",
      "\n",
      "simulation.addParticle(zero, diffusionConstant=diffusionConstant)"
     ],
     "language": "python",
     "metadata": {},
     "outputs": [],
     "prompt_number": 4
    },
    {
     "cell_type": "markdown",
     "metadata": {},
     "source": [
      "Now we run the singleparticle diffusion simulation for ```maxit``` times. Every time the particle is set to its initial position ```zero```. An observable is created, which records the trajectory of the first particle in the simulations' particle list (which contains only one particle in this case). The simulation will then run for ```simulation.maxTime``` timesteps. After the trajectory of the particle is obtained, all observables are removed from the simulation."
     ]
    },
    {
     "cell_type": "code",
     "collapsed": false,
     "input": [
      "maxit = 1000\n",
      "simulation.maxTime = 500\n",
      "trajs = np.zeros((maxit, simulation.maxTime, 3), dtype=np.float64)\n",
      "t = 0\n",
      "for it in range(maxit):\n",
      "    simulation.setPosition(0, zero)\n",
      "    simulation.new_TrajectorySingle()\n",
      "    t1 = time.clock()\n",
      "    simulation.run()\n",
      "    t2 = time.clock()\n",
      "    t += t2 - t1\n",
      "    trajs[it] = np.array(simulation.getTrajectorySingle())\n",
      "    simulation.deleteAllObservables()\n",
      "print \"Time per run() with\", simulation.maxTime, \"timesteps\\n\",\\\n",
      "      t / float(maxit), \"seconds\\n\",\\\n",
      "      \"Total time for\", maxit, \"run():\\n\", t, \"seconds\""
     ],
     "language": "python",
     "metadata": {},
     "outputs": [
      {
       "output_type": "stream",
       "stream": "stdout",
       "text": [
        "Time per run() with 500 timesteps\n",
        "0.000376002 seconds\n",
        "Total time for 1000 run():\n",
        "0.376002 seconds\n"
       ]
      }
     ],
     "prompt_number": 5
    },
    {
     "cell_type": "markdown",
     "metadata": {},
     "source": [
      "From the trajectories ```trajs``` we obtain the mean squared deviation and its standard deviation and standard error."
     ]
    },
    {
     "cell_type": "code",
     "collapsed": false,
     "input": [
      "trajs -= zero\n",
      "trajs  = trajs * trajs\n",
      "trajs  = np.sum(trajs, axis=2)\n",
      "meanTrajs  = np.sum(trajs, axis=0)\n",
      "meanTrajs /= float(maxit)\n",
      "#print \"trajs\\n\", trajs\n",
      "#print \"meanTrajs\\n\", meanTrajs\n",
      "deviation  = trajs - meanTrajs\n",
      "deviation  = deviation * deviation\n",
      "deviation  = np.sum(deviation, axis=0)\n",
      "deviation /= float(maxit - 1)\n",
      "deviation  = np.sqrt(deviation)\n",
      "error      = deviation / np.sqrt(float(maxit))\n",
      "#print \"deviation\\n\", deviation"
     ],
     "language": "python",
     "metadata": {},
     "outputs": [],
     "prompt_number": 6
    },
    {
     "cell_type": "code",
     "collapsed": false,
     "input": [
      "x = np.arange(simulation.maxTime)\n",
      "every = 10 #-th data point is plotted\n",
      "plt.errorbar(x[::every], meanTrajs[::every], yerr=error[::every], fmt='.', color='black')\n",
      "plt.xlabel(\"time / number of timesteps\")\n",
      "plt.ylabel(\"mean squared displacement\")\n",
      "plt.grid(b=1)\n"
     ],
     "language": "python",
     "metadata": {},
     "outputs": [
      {
       "metadata": {},
       "output_type": "display_data",
       "png": "[encoded data removed]",
       "text": [
        "<matplotlib.figure.Figure at 0x7f123d6cfb50>"
       ]
      }
     ],
     "prompt_number": 7
    },
    {
     "cell_type": "code",
     "collapsed": false,
     "input": [
      "print simulation.acceptanceRate()"
     ],
     "language": "python",
     "metadata": {},
     "outputs": [
      {
       "output_type": "stream",
       "stream": "stdout",
       "text": [
        "1.0\n"
       ]
      }
     ],
     "prompt_number": 8
    },
    {
     "cell_type": "code",
     "collapsed": false,
     "input": [],
     "language": "python",
     "metadata": {},
     "outputs": []
    }
   ],
   "metadata": {}
  }
 ]
}